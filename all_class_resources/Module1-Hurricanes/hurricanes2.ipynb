{
 "cells": [
  {
   "cell_type": "raw",
   "metadata": {},
   "source": [
    "---\n",
    "title: \"Analyzing Hurricanes (part 2)\"\n",
    "output: \n",
    "  html_document:\n",
    "    toc: true\n",
    "---"
   ]
  },
  {
   "cell_type": "code",
   "execution_count": null,
   "metadata": {
    "tags": [
     "remove_cell"
    ]
   },
   "outputs": [],
   "source": [
    "library(dplyr)\n",
    "library(ggplot2)"
   ]
  },
  {
   "cell_type": "markdown",
   "metadata": {},
   "source": [
    "-----\n",
    "\n",
    "## Exploratory Data Analysis\n",
    "\n",
    "In this first module, you will have your first contact with tabular data \n",
    "(i.e. data arranged in rows and columns) which is \n",
    "the most common format in which data is handled for data analysis.\n",
    "\n",
    "In order to have a gentle introduction to R, we are going to use a data set that \n",
    "comes in one the most popular R packages for manipulation of tables: `\"dplyr\"`. \n",
    "The main reason to start in this mode, is to avoid having to worry about data \n",
    "importing issues, which we cover later in the course. The other reason is to \n",
    "have data that is already clean and ready to be analyzed."
   ]
  },
  {
   "cell_type": "markdown",
   "metadata": {},
   "source": [
    "### Manipulating tables with `\"dplyr\"` framework\n",
    "\n",
    "In this module, you will start learning a couple of approaches to manipulate \n",
    "tables and create basic statistical graphics. \n",
    "\n",
    "- To manipulate tables, we are going to use the \n",
    "functionality of the package `\"dplyr\"`. This package allows you to work with \n",
    "tabular data _in a syntactic way_.\n",
    "\n",
    "- To create graphics in a fairly consistent and visually pleasant way \n",
    "we are going to use the package `\"ggplot2\"`.\n",
    "\n",
    "In theory, the first thing you need to do to be able to use `\"dplyr\"` and \n",
    "`\"ggplot2\"`, is to install them in your computer. Now, because we are using the \n",
    "jupyterhub server, these packages have already been installed there.\n",
    "\n",
    "Assuming that `\"dplyr\"` and `\"ggplot2\"` are already installed, the next thing\n",
    "to do is to __load__ them in your working session by invoking the `library()` \n",
    "function:"
   ]
  },
  {
   "cell_type": "code",
   "execution_count": null,
   "metadata": {
    "eval": false
   },
   "outputs": [],
   "source": [
    "# (you should include this command in your source file)\n",
    "library(dplyr)\n",
    "library(ggplot2)"
   ]
  },
  {
   "cell_type": "markdown",
   "metadata": {},
   "source": [
    "__About loading packages:__ Another rule to keep in mind is to always load any \n",
    "required packages at the very top of your script files (`.R` or `.Rmd` or \n",
    "`.Rnw` files). Avoid calling the `library()` function in the middle of a script. \n",
    "Instead, load all the packages before anything else.\n",
    "\n",
    "Because packages `\"dplyr\"` and `\"ggplot2\"` have many functions, we recommend\n",
    "that you take a look at these cheatsheets:\n",
    "\n",
    "- dplyr cheatsheet: https://github.com/rstudio/cheatsheets/raw/master/data-transformation.pdf\n",
    "\n",
    "- ggplot2 cheathseet: https://rstudio.com/wp-content/uploads/2016/11/ggplot2-cheatsheet-2.1.pdf"
   ]
  },
  {
   "cell_type": "markdown",
   "metadata": {},
   "source": [
    "-----\n",
    "\n",
    "## Atlantic Hurricane Data\n",
    "\n",
    "The package `\"dplyr\"` contains a dataset called `storms` \n",
    "which is a subset of the _NOAA Atlantic hurricane database best track data_.\n",
    "This database is one of several data sets available in the National Hurricane \n",
    "Center (NHC) Data Archive, which is part of the National Oceanic and Atmospheric \n",
    "Administration (NOAA). In case you are curious about the specifications and \n",
    "format of this type of data, you can visit the following link:\n",
    "\n",
    "<a href=\"http://www.nhc.noaa.gov/data/#hurdat\" target=\"_blank\">http://www.nhc.noaa.gov/data/#hurdat</a>\n",
    "\n",
    "The data `storms` includes the positions and attributes of 198 tropical storms, \n",
    "measured every six hours during the lifetime of a storm. When you type the name \n",
    "of the data object, you whould get something like this:"
   ]
  },
  {
   "cell_type": "code",
   "execution_count": null,
   "metadata": {},
   "outputs": [],
   "source": [
    "storms"
   ]
  },
  {
   "cell_type": "markdown",
   "metadata": {},
   "source": [
    "What's going on in the above output?\n",
    "\n",
    "- `storms` is a __tibble__ object, which is one of the data objects in R that \n",
    "handles data in tabular format. \n",
    "\n",
    "- tibbles are not a native R object---they come from the homonym package \n",
    "`\"tibble\"`---instead they are a modern version of data frames\n",
    "\n",
    "The way tibbles are _printed_ is very interesting. \n",
    "\n",
    "- the number of rows that are displayed is limited to 10; \n",
    "\n",
    "- depending on the width of the printing space, you will only see a few columns \n",
    "shown to fit such width. \n",
    "\n",
    "- underneath the name of each column there is a three letter abbreviation \n",
    "inside angle brackets\n",
    "\n",
    "- this abbreviation indicates the _data type_ used by R to store the values. For \n",
    "  + `<chr>` stands for _character_ data\n",
    "  + `<dbl>` means _double_ (i.e. real numbers or numbers with decimal digits)\n",
    "  + `<int>` means _integer_ (numbers with no decimal digits)\n",
    "  + `<ord>` indicates an _ordinal_ `factor` which is how R handles categorical\n",
    "  data\n"
   ]
  },
  {
   "cell_type": "markdown",
   "metadata": {},
   "source": [
    "### Your Turn\n",
    "\n",
    "You can find a more technical description of `storms` by taking a peek at its \n",
    "manual (or help) documentation. All you need to do is run this command:"
   ]
  },
  {
   "cell_type": "code",
   "execution_count": null,
   "metadata": {
    "eval": false
   },
   "outputs": [],
   "source": [
    "?storms"
   ]
  },
  {
   "cell_type": "markdown",
   "metadata": {},
   "source": [
    "Take a look at the manual (or _help_) documentation and find the description \n",
    "of the variables in data `storms`"
   ]
  },
  {
   "cell_type": "markdown",
   "metadata": {},
   "source": [
    "-----\n",
    "\n",
    "## Exploratory Data Analysis\n",
    "\n",
    "Exploring data is very similar to when you go to the doctor and they do an \n",
    "initial exploration (e.g. measuring your height, your weight, temperature, \n",
    "blood pressure; listenning to your heart and lungs; looking at your eyes, \n",
    "throat, ears; asking you questions about your eating habits, physical activity \n",
    "habits, etc).\n",
    "\n",
    "To perform an exploratory analysis of data that is tabular format, we typically\n",
    "start by inspecting each variable (each column) at a time.\n",
    "To keep things relatively simple, we won't perform a full exploration of every \n",
    "single variable in the data. However, we encourage you to play with the \n",
    "functions to go beyond what we cover in this module. In real life, you will \n",
    "have to do such exploration."
   ]
  },
  {
   "cell_type": "markdown",
   "metadata": {},
   "source": [
    "### Basic Inspection of `year`\n",
    "\n",
    "When you type `storms`, R displays the first 10 rows, which belong to storm\n",
    "Amy in 1975:"
   ]
  },
  {
   "cell_type": "code",
   "execution_count": null,
   "metadata": {},
   "outputs": [],
   "source": [
    "storms"
   ]
  },
  {
   "cell_type": "markdown",
   "metadata": {},
   "source": [
    "From this output, we know that the data contains at least one storm from 1975. \n",
    "We also know, from the manual documentation of `storms`, that there \n",
    "are supposed to be 198 storms. But we don't know for what years. So in a more \n",
    "or less arbitrary way, let's begin inspecting `storms` by focusing on column \n",
    "`year`. Our first exploratory question is: \n",
    "\n",
    "> __What years have the data been collected for?__\n",
    "\n",
    "There are several ways in R to manipulate a column from a tabular object. Using \n",
    "`\"dplyr\"`, there are two basic kinds of functions to extract variables: \n",
    "`pull()` and `select()`."
   ]
  },
  {
   "cell_type": "code",
   "execution_count": null,
   "metadata": {
    "fig.cap": "Extracting a column with dplyr functions \"pull\" and \"select\"",
    "out.width": "65%",
    "tags": [
     "remove_input"
    ]
   },
   "outputs": [],
   "source": [
    "knitr::include_graphics(\"https://www.gastonsanchez.com/intro2cwd/images/eda/dplyr-extract-column.svg\")"
   ]
  },
  {
   "cell_type": "markdown",
   "metadata": {},
   "source": [
    "Let's do a sanity check of years. We can use the function `pull()` that _pulls_\n",
    "or extracts an entire column. Because there are 10010 elements in \n",
    "`years`, let's also use `unique()` to find out the set of year values in the\n",
    "data. First we pull the year, and then we identify unique occurrences:"
   ]
  },
  {
   "cell_type": "code",
   "execution_count": null,
   "metadata": {},
   "outputs": [],
   "source": [
    "unique(pull(storms, year))"
   ]
  },
  {
   "cell_type": "markdown",
   "metadata": {},
   "source": [
    "The same can be accomplished with `select()`. The difference with `pull()` is \n",
    "in the way the output is handled by `select()`, which returns output in a table\n",
    "format:"
   ]
  },
  {
   "cell_type": "code",
   "execution_count": null,
   "metadata": {},
   "outputs": [],
   "source": [
    "unique(select(storms, year))"
   ]
  },
  {
   "cell_type": "markdown",
   "metadata": {},
   "source": [
    "Based on the previous answers, we can see that `storms` has records during \n",
    "a 41-year period since 1975 to 2015."
   ]
  },
  {
   "cell_type": "markdown",
   "metadata": {},
   "source": [
    "### Barplot of `year` values\n",
    "\n",
    "Let's keep using the values in column `year` to obtain our first visualization \n",
    "with `\"ggplot2\"` functions. You could certainly begin a visual exploration of \n",
    "other variables, but we think `year` is a good place to start because it's a \n",
    "numeric variable, measured on a discrete scale, and this is a good candidate \n",
    "to use barcharts (the most popular type of graphic).\n",
    "\n",
    "`\"ggplot2\"` comes with a large number of functions to create almost any \n",
    "type of chart. Luckily for us, it already comes with predefined\n",
    "functions to graph barcharts. The syntax may seem a bit scary for beginners, \n",
    "but you will see that it follows a logical structure. Here's the code to make\n",
    "a barplot of values in `year`:"
   ]
  },
  {
   "cell_type": "code",
   "execution_count": null,
   "metadata": {},
   "outputs": [],
   "source": [
    "# barchart of year values\n",
    "ggplot(data = storms) + \n",
    "  geom_bar(aes(x = year))"
   ]
  },
  {
   "cell_type": "markdown",
   "metadata": {},
   "source": [
    "How does the previous command work? \n",
    "\n",
    "- First, we always call the `ggplot()` function, typically indicating the name \n",
    "of the table to be used with the `data` argument. \n",
    "\n",
    "- Then, we add more components, or __layers__, using the plus `+` operator. \n",
    "\n",
    "- In this case we are adding just one layer: a `geom_bar()` component which is \n",
    "the geometric object for bars. \n",
    "\n",
    "- To tell `ggplot()` that `year` is the column in `data = storms` to be used for\n",
    "the x-axis, we __map__ `x = year` inside the `aes()` function which stands for \n",
    "_aesthetic_ mapping. \n",
    "\n",
    "We should clarify that the meaning of \"aesthetic\" as used by `\"ggplot2\"` does \n",
    "not mean beautiful or pretty, instead it conserves its etimological\n",
    "meaning of _perception_. Simply put, `aes()` is the function that you use to \n",
    "tell `ggplot()` which variables of a `data` object will be mapped as visual\n",
    "attributes of graphical elements.\n",
    "\n",
    "\n",
    "\n",
    "\n"
   ]
  },
  {
   "cell_type": "markdown",
   "metadata": {},
   "source": [
    "### Your Turn\n",
    "\n",
    "- Use `pull()`, `select()`, and `unique()` to inspect the values in column \n",
    "`month`\n",
    "\n",
    "- Try to use `sort()` in order to arrange the unique values of `month`\n",
    "\n",
    "- Does the unique month values make sense? Are there months for which there \n",
    "seem to be no recorded storm data?\n",
    "\n",
    "- Use `\"ggplot2\"` functions to graph a barchart for the values in column \n",
    "`month`.\n",
    "\n",
    "- Look at the cheatsheet for ggplot and locate the information for `geom_bar()`.\n",
    "Find out how to specify: border `color`, `fill` color. Also, see what happens\n",
    "when you specify `alpha = 0.5`.\n",
    "\n",
    "- Look at the cheatsheet for ggplot and locate the information for background \n",
    "_Themes_, e.g. `theme_bw()`. Find out how to add theme `theme_classic()` to the \n",
    "previous barchart.\n",
    "\n",
    "- Look at the cheatsheet for ggplot and locate the information for _Labels_. \n",
    "Find out how to add a title with `ggtitle()` as well as with `labs()` to one\n",
    "of your previous barcharts.\n",
    "\n",
    "- Create a barchart of `month` values. Does the plot make sense?"
   ]
  },
  {
   "cell_type": "markdown",
   "metadata": {},
   "source": [
    "-----\n",
    "\n",
    "## Basic inspection of storms in 1975\n",
    "\n",
    "Let's focus on those storms recorded in 1975. How do we select them? \n",
    "Computationally, this operation incolves a logical condition: `year == 1975`.\n",
    "This condition means that, from all the available year values, we get those \n",
    "that match 1975. This is done via `\"dplyr\"` function `filter()`"
   ]
  },
  {
   "cell_type": "code",
   "execution_count": null,
   "metadata": {
    "fig.cap": "Extracting a row with dplyr function \"filter\"",
    "out.width": "40%",
    "tags": [
     "remove_input"
    ]
   },
   "outputs": [],
   "source": [
    "knitr::include_graphics(\"https://www.gastonsanchez.com/intro2cwd/images/eda/dplyr-filter.svg\")"
   ]
  },
  {
   "cell_type": "markdown",
   "metadata": {},
   "source": [
    "First, let's create a subset `storms75` by _filtering_ those rows with `year`\n",
    "equal to 1975:"
   ]
  },
  {
   "cell_type": "code",
   "execution_count": null,
   "metadata": {},
   "outputs": [],
   "source": [
    "storms75 <- filter(storms, year == 1975)\n",
    "storms75"
   ]
  },
  {
   "cell_type": "markdown",
   "metadata": {},
   "source": [
    "Once we have the set of storms that occurred in 1975, one possible question \n",
    "to ask is what `unique()` storms happened in that year:"
   ]
  },
  {
   "cell_type": "code",
   "execution_count": null,
   "metadata": {},
   "outputs": [],
   "source": [
    "unique(pull(storms75, name))"
   ]
  },
  {
   "cell_type": "markdown",
   "metadata": {},
   "source": [
    "From the returned output, there are only three unique storms recorded in 1975.\n",
    "\n",
    "A similar result can be obtained with `distinct()`, the difference being the\n",
    "way in which the output is returned, in this case under the format of a tibble:"
   ]
  },
  {
   "cell_type": "code",
   "execution_count": null,
   "metadata": {},
   "outputs": [],
   "source": [
    "distinct(storms75, name)"
   ]
  },
  {
   "cell_type": "markdown",
   "metadata": {},
   "source": [
    "Now that we know there are three storms for 1975, it would be nice to count\n",
    "the number of rows or records for each of them. `\"dplyr\"` allows us to do this\n",
    "with `count()`, passing the name of the table, and then the name of the column\n",
    "for which we want to get the counts or frequencies:"
   ]
  },
  {
   "cell_type": "code",
   "execution_count": null,
   "metadata": {
    "lines_to_next_cell": 2
   },
   "outputs": [],
   "source": [
    "count(storms75, name)"
   ]
  },
  {
   "cell_type": "markdown",
   "metadata": {},
   "source": [
    "### Visual displays on 1975 storms\n",
    "\n",
    "Let's play a bit with those storms from 1975. More specifically, let's visually \n",
    "explore the values of columns `wind` and `pressure`."
   ]
  },
  {
   "cell_type": "code",
   "execution_count": null,
   "metadata": {},
   "outputs": [],
   "source": [
    "storms75"
   ]
  },
  {
   "cell_type": "markdown",
   "metadata": {},
   "source": [
    "What type of visual display can we use to graph `wind` speed? The answer to \n",
    "this question is based by determining which type of variable `wind` is. \n",
    "You would agree with us in saying that `wind` is a quantitative variable. So\n",
    "one graphing option can be either a histogram or a boxplot, which are \n",
    "statistical charts to visualize the distribution of quantitative variables.\n",
    "\n",
    "So let's use `geom_histogram()` and see what we get. We are going to show you \n",
    "a synatx of `ggplot()` slightly different from the one we used for the barcharts.\n",
    "Carefully review the following code:"
   ]
  },
  {
   "cell_type": "code",
   "execution_count": null,
   "metadata": {},
   "outputs": [],
   "source": [
    "ggplot(data = storms75, aes(x = wind)) +\n",
    "  geom_histogram()"
   ]
  },
  {
   "cell_type": "markdown",
   "metadata": {},
   "source": [
    "You should notice now that `aes()` is an argument of `ggplot()`, and not anymore \n",
    "an argument of the geometric-object function `geom_histogram()`. While this \n",
    "may be a bit confusing when learning about `\"ggplot2\"`, it is a very flexible\n",
    "and powerful behavior of `aes()`. Again, the important part of `aes()` is to\n",
    "understand that this function allows you to tell `ggplot()` which variables\n",
    "in your `data` table are used as visual attributes of the corresponding \n",
    "geometric elements forming the plot.\n",
    "\n",
    "We can change the default argument `binwidth` to get another version of the \n",
    "histogram, for example a bin-width of 5 units (i.e. width of 5 knots):"
   ]
  },
  {
   "cell_type": "code",
   "execution_count": null,
   "metadata": {},
   "outputs": [],
   "source": [
    "ggplot(data = storms75, aes(x = wind)) +\n",
    "  geom_histogram(binwidth = 5)"
   ]
  },
  {
   "cell_type": "markdown",
   "metadata": {},
   "source": [
    "or a bin-width of 10:"
   ]
  },
  {
   "cell_type": "code",
   "execution_count": null,
   "metadata": {},
   "outputs": [],
   "source": [
    "ggplot(data = storms75, aes(x = wind)) +\n",
    "  geom_histogram(binwidth = 10)"
   ]
  },
  {
   "cell_type": "markdown",
   "metadata": {},
   "source": [
    "Now, let's reflect on what's going on in each of the histograms. Do they make\n",
    "sense? How do we interpret each figure?\n",
    "\n",
    "While `ggplot()` does what we ask it to do, the displays may not be the most \n",
    "useful, or meaningful. Why? Think what exactly it is that we are plotting. \n",
    "In 1975, there are three storms: "
   ]
  },
  {
   "cell_type": "code",
   "execution_count": null,
   "metadata": {},
   "outputs": [],
   "source": [
    "unique(pull(storms75, name))"
   ]
  },
  {
   "cell_type": "markdown",
   "metadata": {},
   "source": [
    "But the histograms are not differentiating between any of those three storms.\n",
    "Rather, the visualization is just giving us a general view of the `wind` values,\n",
    "from the low 20's to the high 90's, or to be more precise:"
   ]
  },
  {
   "cell_type": "code",
   "execution_count": null,
   "metadata": {},
   "outputs": [],
   "source": [
    "summary(pull(storms75, wind))"
   ]
  },
  {
   "cell_type": "markdown",
   "metadata": {},
   "source": [
    "However, we don't really know if all three storms have the same minimum `wind`\n",
    "speed, or the same maximum `wind` speed. The good news is that we can tell\n",
    "`ggplot()` to take into account each different storm name. But now let's use\n",
    "boxplots via `geom_boxplot()`, mapping `name` to the x-axis, and `wind` to the y-axis."
   ]
  },
  {
   "cell_type": "code",
   "execution_count": null,
   "metadata": {},
   "outputs": [],
   "source": [
    "ggplot(data = storms75, aes(x = name, y = wind)) +\n",
    "  geom_boxplot()"
   ]
  },
  {
   "cell_type": "markdown",
   "metadata": {},
   "source": [
    "Note how different the distribution of wind speed is in each storm. We can get\n",
    "an alternative plot with density curves thanks to the `geom_density()` function.\n",
    "The syntax in this case is different. Let's first do it without separating \n",
    "storms, and then we do it taking into account the storm names.\n",
    "\n",
    "Here's the command that plots a density curve of wind, without distinguishing \n",
    "between storms. Observe also how the argument `fill` is _set_ to color `'gray'`:"
   ]
  },
  {
   "cell_type": "code",
   "execution_count": null,
   "metadata": {},
   "outputs": [],
   "source": [
    "ggplot(data = storms75, aes(x = wind)) +\n",
    "  geom_density(fill = 'gray')"
   ]
  },
  {
   "cell_type": "markdown",
   "metadata": {},
   "source": [
    "As you can tell, the density curve looks like the profile of a roller coaster,\n",
    "or like the silhouette of three mountain peaks. Is this a pattern followed \n",
    "by wind speed in all storms? Or is it just an artifact due to the fact that we \n",
    "are plotting data without taking into consideration the context of `storms75`?\n",
    "\n",
    "Let's replot density of wind, but now distinguishing between each storm. We \n",
    "do this by mapping `name` to the `color` argument:"
   ]
  },
  {
   "cell_type": "code",
   "execution_count": null,
   "metadata": {},
   "outputs": [],
   "source": [
    "ggplot(data = storms75, aes(x = wind, color = name)) +\n",
    "  geom_density(aes(fill = name))"
   ]
  },
  {
   "cell_type": "markdown",
   "metadata": {},
   "source": [
    "Aha! Now things look more interesting: the roller coast shape of the first call \n",
    "to `geom_density()` turned out to be an artificial pattern. As you can tell \n",
    "from the above plot, each storm has its own different density curve.\n",
    "\n",
    "To get a better visualization, we can take the previous command and add a bit \n",
    "of transparency to the colors, this is done with the argument `alpha` inside \n",
    "`geom_density()`. Note how arguments are specified inside `geom_density()`:\n",
    "we __map__ `name` to the color-fill attribute of the curve inside `aes()`, but \n",
    "we __set__ `alpha = 0.5` outside `aes()`:"
   ]
  },
  {
   "cell_type": "code",
   "execution_count": null,
   "metadata": {},
   "outputs": [],
   "source": [
    "ggplot(data = storms75, aes(x = wind, color = name)) +\n",
    "  geom_density(aes(fill = name), alpha = 0.5)"
   ]
  },
  {
   "cell_type": "markdown",
   "metadata": {},
   "source": [
    "We are going to take advantage of this graphic to introduce another cool \n",
    "feature of `\"ggplot2\"` that allows us to split data based on categorical or\n",
    "discrete variables, in order to produce separated frames called __facets__. \n",
    "Here's the command previous command---wihtout `alpha` transparency---adding a \n",
    "new layer given by `facet_wrap()`:"
   ]
  },
  {
   "cell_type": "code",
   "execution_count": null,
   "metadata": {},
   "outputs": [],
   "source": [
    "ggplot(data = storms75, aes(x = wind, color = name)) +\n",
    "  geom_density(aes(fill = name)) + \n",
    "  facet_wrap(~ name)"
   ]
  },
  {
   "cell_type": "markdown",
   "metadata": {},
   "source": [
    "In this command we are faceting by `name`, and what this does is to create \n",
    "facets, one for each category of `name`. In other words, we get separated \n",
    "density curves, one for each storm. The syntax inside `facet_wrap()` uses the\n",
    "tilde `~` operator which is the _formula_ operator in R. Basically, the command \n",
    "`~ name` tells `ggplot()` to create facets based on the values of `name`."
   ]
  },
  {
   "cell_type": "markdown",
   "metadata": {},
   "source": [
    "-----"
   ]
  },
  {
   "cell_type": "markdown",
   "metadata": {},
   "source": [
    "### Visual Inspection of Storm Amy (1975)\n",
    "\n",
    "Let's focus on storm `Amy` in 1975, subsetting `storms75` to filter out just \n",
    "the rows of Amy into its own table"
   ]
  },
  {
   "cell_type": "code",
   "execution_count": null,
   "metadata": {},
   "outputs": [],
   "source": [
    "amy75 <- filter(storms75, name == \"Amy\")\n",
    "amy75"
   ]
  },
  {
   "cell_type": "markdown",
   "metadata": {},
   "source": [
    "Let's keep exploring `wind` but now let's do it chronologically, that is, \n",
    "graphing the wind values in the order that they were recorded (recall storms \n",
    "are tracked every six hours). \n",
    "\n",
    "We begin with a scatterplot using `geom_point()`,\n",
    "and we specify that the x-axis should use a numeric sequence `1:nrow(amy75)`\n",
    "from the first row till the last row of `amy75`, and `wind` for y-axis:"
   ]
  },
  {
   "cell_type": "code",
   "execution_count": null,
   "metadata": {},
   "outputs": [],
   "source": [
    "ggplot(data = amy75, aes(x = 1:nrow(amy75), y = wind)) +\n",
    "  geom_point()"
   ]
  },
  {
   "cell_type": "markdown",
   "metadata": {},
   "source": [
    "Becasue the x-axis denotes progression over time, we can connect the dots\n",
    "with a line. A simple way to do this is by adding another layer to our plot,\n",
    "this time with `geom_line()`"
   ]
  },
  {
   "cell_type": "code",
   "execution_count": null,
   "metadata": {},
   "outputs": [],
   "source": [
    "ggplot(data = amy75, aes(x = 1:nrow(amy75), y = wind)) +\n",
    "  geom_point() + \n",
    "  geom_line()"
   ]
  },
  {
   "cell_type": "markdown",
   "metadata": {},
   "source": [
    "As you can tell, Amy started to being recorded with wind speed of 25 knots, and\n",
    "then after (7 x 6) = hours, its speed kept increasing to 30, 35, 40, and so on\n",
    "until reaching its maximum speed of 60 knots that lasted 54 hours (9 x 6).\n",
    "\n",
    "At this point, we can ask about the `status` of Amy along its lifetime. One \n",
    "option is to map `status` to the `color` attribute of points:"
   ]
  },
  {
   "cell_type": "code",
   "execution_count": null,
   "metadata": {},
   "outputs": [],
   "source": [
    "ggplot(data = amy75, aes(x = 1:nrow(amy75), y = wind)) +\n",
    "  geom_point(aes(color = status)) + \n",
    "  geom_line()"
   ]
  },
  {
   "cell_type": "markdown",
   "metadata": {},
   "source": [
    "We see that Amy started as a tropical depression, and then became a tropical\n",
    "storm, but never became a hurricane. For a storm to reach hurricane status, of category 1, it must have one-minute maximum sustained winds of at least  64 kn\n",
    "(33 m/s; 74 mph; 119 km/h).\n",
    "\n",
    "What about the pressure values of Amy? We can produce a similar scatterplot \n",
    "with a line connecting the dots:"
   ]
  },
  {
   "cell_type": "code",
   "execution_count": null,
   "metadata": {},
   "outputs": [],
   "source": [
    "ggplot(data = amy75, aes(x = 1:nrow(amy75), y = pressure)) +\n",
    "  geom_point(aes(color = status)) + \n",
    "  geom_line()"
   ]
  },
  {
   "cell_type": "markdown",
   "metadata": {},
   "source": [
    "As an exploratory exercise, we can also play with the size of points, the \n",
    "size (width) of lines, colors, etc. Here's one suggestion graphing `pressure`\n",
    "and taking into account the `wind` speed reflected in the size of points and\n",
    "line segments:"
   ]
  },
  {
   "cell_type": "code",
   "execution_count": null,
   "metadata": {},
   "outputs": [],
   "source": [
    "ggplot(data = amy75, aes(x = 1:nrow(amy75), y = pressure)) +\n",
    "  geom_line(aes(size = wind), lineend = \"round\", color = 'gray70') +\n",
    "  geom_point(aes(size = wind, color = status))"
   ]
  },
  {
   "cell_type": "markdown",
   "metadata": {},
   "source": [
    "If you know a little bit about storms, you know there's actually an association \n",
    "between `wind` and `pressure`. But let's pretend for a second that we don't \n",
    "know much about tropical storms, hurricanes, and things like that. By looking\n",
    "at the previous chart, this should allows us to guess that something is going \n",
    "on between the `pressure` of a storm and its `wind` speed. As Amy becomes \n",
    "stronger, with higher winds, its pressure levels drop accordingly, suggesting\n",
    "a negative correlation, which is confirmed when we compute this statistic:"
   ]
  },
  {
   "cell_type": "code",
   "execution_count": null,
   "metadata": {},
   "outputs": [],
   "source": [
    "summarise(amy75, cor(wind, pressure))"
   ]
  },
  {
   "cell_type": "markdown",
   "metadata": {},
   "source": [
    "-----\n",
    "\n",
    "### Your Turn\n",
    "\n",
    "- Repeat the previous exploratory steps but now with storms from year 1980.\n",
    "\n",
    "- Try to find out how to specify a logical condition to filter various years: \n",
    "for example, storms from years 1975, 1976, and 1977.\n",
    "\n",
    "- Try to find out how to specify a logical condition to filter storms from \n",
    "year 1975 with `wind` values less than 100.\n",
    "\n",
    "- Use `\"dplyr\"` functions/commands to create a table (e.g. tibble) \n",
    "`storm_names_1980s` containing the name and year of storms recorded during the \n",
    "1980s (i.e. from 1980 to 1989).\n",
    "\n",
    "- Create boxplots of pressure, for storms in 1980. You can also try \n",
    "graphing _violins_ (`geom_violin()`) instead of boxplots (`geom_boxplot()`).\n",
    "\n",
    "- Use `\"ggplot2\"` functions to make a single scatterplot of `wind` and \n",
    "`pressure` for all storms. Use `category` to add color to the dots.\n",
    "\n",
    "- Use `\"ggplot2\"` functions to make a scatterplot of `wind` and `pressure` \n",
    "for all storms, facetting by month, and using `category` to differentiate by \n",
    "color.\n",
    "\n",
    "- Use `\"ggplot2\"` functions to make a scatterplot of `wind` and `pressure` \n",
    "for all storms, but now create facets based on `month`. Feel free to add \n",
    "some amount of `alpha` transparency to the color of dots."
   ]
  }
 ],
 "metadata": {
  "jupytext": {
   "cell_metadata_filter": "tags,eval,fig.cap,out.width,-all",
   "main_language": "R",
   "notebook_metadata_filter": "-all"
  }
 },
 "nbformat": 4,
 "nbformat_minor": 4
}
