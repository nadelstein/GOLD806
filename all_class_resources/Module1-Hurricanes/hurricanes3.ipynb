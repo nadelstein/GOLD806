{
 "cells": [
  {
   "cell_type": "raw",
   "metadata": {},
   "source": [
    "---\n",
    "title: \"Analyzing Hurricanes (part 3)\"\n",
    "output: \n",
    "  html_document:\n",
    "    toc: true\n",
    "---"
   ]
  },
  {
   "cell_type": "code",
   "execution_count": null,
   "metadata": {
    "lines_to_next_cell": 2,
    "tags": [
     "remove_cell"
    ]
   },
   "outputs": [],
   "source": [
    "library(dplyr)\n",
    "library(ggplot2)"
   ]
  },
  {
   "cell_type": "markdown",
   "metadata": {},
   "source": [
    "## Reminder\n",
    "\n",
    "You may need to load packages `\"dplyr\"` and `\"ggplot2\"` with the `library()`\n",
    "function (load them one-by-one:"
   ]
  },
  {
   "cell_type": "code",
   "execution_count": null,
   "metadata": {
    "eval": false
   },
   "outputs": [],
   "source": [
    "# (you should include this command in your source file)\n",
    "library(dplyr)\n",
    "library(ggplot2)"
   ]
  },
  {
   "cell_type": "markdown",
   "metadata": {},
   "source": [
    "We've been working with the table `storms75`, which was obtained by _filtering_ \n",
    "those rows with `year` equal to 1975:"
   ]
  },
  {
   "cell_type": "code",
   "execution_count": null,
   "metadata": {
    "lines_to_next_cell": 2
   },
   "outputs": [],
   "source": [
    "storms75 <- filter(storms, year == 1975)\n",
    "storms75"
   ]
  },
  {
   "cell_type": "markdown",
   "metadata": {},
   "source": [
    "-----\n",
    "\n",
    "## Group-by Operations\n",
    "\n",
    "Another common task when exploring data has to do with computations applied \n",
    "on certain groups or categories of data. `\"dplyr\"` provides the function \n",
    "`group_by()` which takes a data table, and we specify the column(s) on which\n",
    "rows will be grouped by:"
   ]
  },
  {
   "cell_type": "code",
   "execution_count": null,
   "metadata": {
    "fig.cap": "Group-by operations",
    "out.width": "80%",
    "tags": [
     "remove_input"
    ]
   },
   "outputs": [],
   "source": [
    "knitr::include_graphics(\"https://www.gastonsanchez.com/intro2cwd/images/eda/dplyr-group-by.svg\")"
   ]
  },
  {
   "cell_type": "markdown",
   "metadata": {},
   "source": [
    "For example, we may be interested in calculating the average `wind` speed and \n",
    "average `pressure` of each storm in 1975. First we need to group by `name`, \n",
    "and then we use `summarise()` to indicate that we want to get the `mean()` \n",
    "of `wind` and `pressure`, like this:"
   ]
  },
  {
   "cell_type": "code",
   "execution_count": null,
   "metadata": {},
   "outputs": [],
   "source": [
    "summarise(\n",
    "  group_by(storms75, name),\n",
    "  avg_wind = mean(wind),\n",
    "  avg_pressure = mean(pressure)\n",
    ")"
   ]
  },
  {
   "cell_type": "markdown",
   "metadata": {},
   "source": [
    "Sometimes, you'll find convenient to assign the output into its own table:"
   ]
  },
  {
   "cell_type": "code",
   "execution_count": null,
   "metadata": {
    "lines_to_next_cell": 2
   },
   "outputs": [],
   "source": [
    "avg_wind_pressure_75 <- summarise(\n",
    "  group_by(storms75, name),\n",
    "  avg_wind = mean(wind),\n",
    "  avg_pressure = mean(pressure)\n",
    ")\n",
    "\n",
    "avg_wind_pressure_75"
   ]
  },
  {
   "cell_type": "markdown",
   "metadata": {},
   "source": [
    "### Your Turn\n",
    "\n",
    "- Use `\"dplyr\"` functions/commands to create a table (e.g. tibble) \n",
    "`max_wind_pressure_75` containing columns: 1)`name` of \n",
    "storm, 2) `max_wind` maximum wind speed, and 3) `max_pressure` maximum pressure\n",
    "\n",
    "- Use `\"dplyr\"` functions/commands to create a table (e.g. tibble) \n",
    "`wind_stats_75` containing columns: 1)`name` of storm, 2) `min_wind` minimum \n",
    "wind speed, 3) `avg_wind` mean wind speed, 4) `med_wind` median wind speed, \n",
    "and 5) `max_wind` maximum wind speed."
   ]
  },
  {
   "cell_type": "markdown",
   "metadata": {},
   "source": [
    "-----\n",
    "\n",
    "## Arrange operations\n",
    "\n",
    "The table of summary means `avg_wind_pressure_75` is ordered alphabetically by \n",
    "`name`. But perhaps you may want to organize its contents by `avg_wind` or by\n",
    "`avg_pressure`. Let's see how to do this.\n",
    "\n",
    "Besides `group_by()` operations, another common type of manipulation is the \n",
    "arragement of rows based on the values of one or more columns. In `\"dplyr\"`, \n",
    "this can easily be achieved with the function `arrange()`. The way this function \n",
    "works is passing the name of the table, and then specifying one or more columns\n",
    "to order rows based on such values."
   ]
  },
  {
   "cell_type": "code",
   "execution_count": null,
   "metadata": {
    "fig.cap": "Arranging rows",
    "out.width": "85%",
    "tags": [
     "remove_input"
    ]
   },
   "outputs": [],
   "source": [
    "knitr::include_graphics(\"https://www.gastonsanchez.com/intro2cwd/images/eda/dplyr-arrange.svg\")"
   ]
  },
  {
   "cell_type": "markdown",
   "metadata": {},
   "source": [
    "Say you want to arrange the contents of the average summary table, by taking \n",
    "into account the columnd `avg_wind`:"
   ]
  },
  {
   "cell_type": "code",
   "execution_count": null,
   "metadata": {},
   "outputs": [],
   "source": [
    "arrange(avg_wind_pressure_75, avg_wind)"
   ]
  },
  {
   "cell_type": "markdown",
   "metadata": {},
   "source": [
    "Likewise, you can also arrange the averages by `avg_pressure`:"
   ]
  },
  {
   "cell_type": "code",
   "execution_count": null,
   "metadata": {},
   "outputs": [],
   "source": [
    "arrange(avg_wind_pressure_75, avg_pressure)"
   ]
  },
  {
   "cell_type": "markdown",
   "metadata": {},
   "source": [
    "The default behavior of `arrange()` is to organize rows in increasing order.\n",
    "But what if you want to organize rows in decreasing order? No problem, just \n",
    "use the auxiliary function `desc()` to indicate that rows should be arranged \n",
    "decreasingly:"
   ]
  },
  {
   "cell_type": "code",
   "execution_count": null,
   "metadata": {
    "lines_to_next_cell": 2
   },
   "outputs": [],
   "source": [
    "arrange(avg_wind_pressure_75, desc(avg_wind))"
   ]
  },
  {
   "cell_type": "markdown",
   "metadata": {},
   "source": [
    "-----\n",
    "\n",
    "### Further inspection of 1975 storm Amy\n",
    "\n",
    "Let's focus on a specific storm, for example storm `Amy` in 1975. For sake of \n",
    "simplicity, we are going to create a table `amy75` containing the values of \n",
    "this storm:"
   ]
  },
  {
   "cell_type": "code",
   "execution_count": null,
   "metadata": {},
   "outputs": [],
   "source": [
    "amy75 <- filter(storms75, name == \"Amy\")\n",
    "amy75"
   ]
  },
  {
   "cell_type": "markdown",
   "metadata": {},
   "source": [
    "Here's a couple of questions that we could investigate:\n",
    "\n",
    "- which are the `status` categories for Amy?\n",
    "\n",
    "- during which months was Amy active? and for how many days?\n",
    "\n",
    "- what are the basic summary statistics for `wind` and `pressure`?"
   ]
  },
  {
   "cell_type": "code",
   "execution_count": null,
   "metadata": {},
   "outputs": [],
   "source": [
    "# which are the `status` categories for Amy?\n",
    "distinct(amy75, status)"
   ]
  },
  {
   "cell_type": "code",
   "execution_count": null,
   "metadata": {},
   "outputs": [],
   "source": [
    "# during which months was Amy active?\n",
    "distinct(amy75, month)"
   ]
  },
  {
   "cell_type": "code",
   "execution_count": null,
   "metadata": {},
   "outputs": [],
   "source": [
    "# for how many days was Amy active?\n",
    "count(distinct(amy75, day))"
   ]
  },
  {
   "cell_type": "code",
   "execution_count": null,
   "metadata": {},
   "outputs": [],
   "source": [
    "# summary statistics for wind\n",
    "summary(select(amy75, wind))"
   ]
  },
  {
   "cell_type": "code",
   "execution_count": null,
   "metadata": {
    "lines_to_next_cell": 2
   },
   "outputs": [],
   "source": [
    "# summary statistics for pressure\n",
    "summary(select(amy75, pressure))"
   ]
  },
  {
   "cell_type": "markdown",
   "metadata": {},
   "source": [
    "-----\n",
    "\n",
    "### Number of Storms per Year\n",
    "\n",
    "If you recall, our first ggplot involved a barchart for the values in column\n",
    "`year`"
   ]
  },
  {
   "cell_type": "code",
   "execution_count": null,
   "metadata": {},
   "outputs": [],
   "source": [
    "ggplot(data = storms) + \n",
    "  geom_bar(aes(x = year))"
   ]
  },
  {
   "cell_type": "markdown",
   "metadata": {},
   "source": [
    "We discovered the 41-year period of recorded data from 1975 to 2015. We can \n",
    "take a further step and ask: how many storms are there in each year? \n",
    "\n",
    "To answer this question, we need to do some data manipulation with `\"dplyr\"`. \n",
    "Our general recommendation when working with `\"dplyr\"`'s functions, especially \n",
    "when you are learning about them, is to do computations step by step, deciding \n",
    "which columns you need to use, which rows to consider, which functions to call, \n",
    "and so on.\n",
    "\n",
    "Think about the columns that we need to select to find the number of unique \n",
    "storms per year. We obviously need `year`, but this column alone it's not enough \n",
    "because for any given storm we have multiple records with the same year. \n",
    "Therefore, we also need column `name`.\n",
    "\n",
    "For illustration purposes, we are going to build the data manipulation pipeline\n",
    "step by step. As you get more comfortable with `\"dplyr\"` and other functions,\n",
    "you won't have the need to disect every single command.\n",
    "A first step is to `select()` variables `year` and `name`:"
   ]
  },
  {
   "cell_type": "code",
   "execution_count": null,
   "metadata": {},
   "outputs": [],
   "source": [
    "select(storms, year, name)"
   ]
  },
  {
   "cell_type": "markdown",
   "metadata": {},
   "source": [
    "Next, we need to `group_by()` year. At first glance, the previous output and \n",
    "the output below seem identical. But notice the tiny difference: the output\n",
    "below has a second line of text with some relevant information: \n",
    "`# Groups:   year [41]`, telling us that the values are grouped by year."
   ]
  },
  {
   "cell_type": "code",
   "execution_count": null,
   "metadata": {},
   "outputs": [],
   "source": [
    "group_by(select(storms, year, name), year)"
   ]
  },
  {
   "cell_type": "markdown",
   "metadata": {},
   "source": [
    "Then, we identify the `distinct()` values (combination of year-name):"
   ]
  },
  {
   "cell_type": "code",
   "execution_count": null,
   "metadata": {},
   "outputs": [],
   "source": [
    "distinct(group_by(select(storms, year, name), year))"
   ]
  },
  {
   "cell_type": "markdown",
   "metadata": {},
   "source": [
    "For convenience purposes, let's assign this table into its own object, \n",
    "which we can call `storms_year_name`"
   ]
  },
  {
   "cell_type": "code",
   "execution_count": null,
   "metadata": {},
   "outputs": [],
   "source": [
    "storms_year_name <- distinct(group_by(select(storms, year, name), year))"
   ]
  },
  {
   "cell_type": "markdown",
   "metadata": {},
   "source": [
    "Finally, we need to `count()` how many storms are in each year:"
   ]
  },
  {
   "cell_type": "code",
   "execution_count": null,
   "metadata": {},
   "outputs": [],
   "source": [
    "count(storms_year_name, year)"
   ]
  },
  {
   "cell_type": "markdown",
   "metadata": {},
   "source": [
    "All the previous commands can be assembled together with various embedded lines\n",
    "of code:"
   ]
  },
  {
   "cell_type": "code",
   "execution_count": null,
   "metadata": {},
   "outputs": [],
   "source": [
    "storms_per_year <- count(\n",
    "  distinct(\n",
    "    group_by(\n",
    "      select(storms, year, name), \n",
    "      year)\n",
    "    )\n",
    "  )\n",
    "\n",
    "storms_per_year"
   ]
  },
  {
   "cell_type": "markdown",
   "metadata": {},
   "source": [
    "Now that we have the counts or frequencies, we can make our next barchart.\n",
    "In this case, we will use the table `storms_year_name` as the input data for\n",
    "`ggplot()`:"
   ]
  },
  {
   "cell_type": "code",
   "execution_count": null,
   "metadata": {},
   "outputs": [],
   "source": [
    "ggplot(data = storms_year_name) + \n",
    "  geom_bar(aes(x = year))"
   ]
  },
  {
   "cell_type": "markdown",
   "metadata": {},
   "source": [
    "By looking at the chart, there are some fairly tall bars. Although it's hard \n",
    "to see exactly which years have a considerably large number of storms, \n",
    "eyeballing things out it seems that around 1995, 2003, 2005, and 2010 there are \n",
    "20 or more storms. We can find the actual answer by using `arrange()`,\n",
    "specifying the counts to be shown in descending order---with `desc()`:"
   ]
  },
  {
   "cell_type": "code",
   "execution_count": null,
   "metadata": {},
   "outputs": [],
   "source": [
    "arrange(storms_per_year, desc(n))"
   ]
  },
  {
   "cell_type": "markdown",
   "metadata": {},
   "source": [
    "As you can tell, in the 41-year period from 1975 to 2015, there are two years,\n",
    "1995 and 2005, with a maximum number of storms equal to 21."
   ]
  },
  {
   "cell_type": "markdown",
   "metadata": {},
   "source": [
    "-----\n",
    "\n",
    "### Summary\n",
    "\n",
    "So far, we've covered several functions from `\"dplyr\"`, as well as some other\n",
    "functions in R:\n",
    "\n",
    "- functions from `\"dplyr\"`\n",
    "    - `pull()` and `select()`\n",
    "    - `filter()`\n",
    "    - `group_by()`\n",
    "    - `arrange()` and `desc()`\n",
    "    - `count()`, `distinct()`, `summarise()`\n",
    "- functions in base R\n",
    "    - `unique()`, `sort()`, `mean()`, `summary()`"
   ]
  },
  {
   "cell_type": "markdown",
   "metadata": {},
   "source": [
    "-----\n",
    "\n",
    "- Use `\"dplyr\"` functions/commands to create a table (e.g. tibble) \n",
    "`storm_records_per_year` containing three columns: 1) `name` of storm, 2) `year` \n",
    "of storm, and 3) `count` for number of recorded valued (of the corresponding \n",
    "storm).\n",
    "\n",
    "- Use `\"dplyr\"` functions/commands to create a table (e.g. tibble) \n",
    "`storms_categ5` containing the name and year of those storms of category 5. \n",
    "\n",
    "- Use `\"dplyr\"` functions/commands to display a table showing the `status`, \n",
    "`avg_pressure` (average pressure), and `avg_wind` (average wind speed), for \n",
    "each type of storm `category`. This table should contain four columns: 1) \n",
    "`category`, 2) `status`, 3) `avg_pressure`, and 4) `avg_wind`.\n",
    "\n",
    "- Use `\"dplyr\"` functions/commands to create a table (e.g. tibble) \n",
    "`max_wind_per_storm` containing three columns: 1) `year` of storm, 2) `name` of \n",
    "storm, and 3) `max_wind` maximum wind speed record (for that storm).\n",
    "\n",
    "- Use `\"dplyr\"` functions/commands to create a table (e.g. tibble) \n",
    "`max_wind_per_year` containing three columns: 1) `year` of storm, 2) `name` of \n",
    "storm, and 3) `wind` maximum wind speed record (for that year). Arrange rows by \n",
    "wind speed in decreasing order.\n",
    "\n",
    "- Make a scatterplot of `wind` (x-axis) and `ts_diameter` (y-axis), and add\n",
    "a regression line---via `geom_smooth()`. \n",
    "\n",
    "  a) Try `geom_smooth()` with `method = lm` to fit a least squares regression line. \n",
    "\n",
    "  b) Try `geom_smooth()` with `method = loess` to fit a local polynomial regression. \n",
    "\n",
    "- Repeat the previous scatterplot of `wind` (x-axis) and `ts_diameter` (y-axis), \n",
    "but now use `status` to color code the points, and use the `alpha` argument to \n",
    "add some transparency to the dots.\n",
    "\n",
    "- Take a look at the cheatsheet of `\"ggplot2\"` and make at least 5 more \n",
    "different graphs (e.g. of one variable, of two variables, of three variables).\n"
   ]
  }
 ],
 "metadata": {
  "jupytext": {
   "cell_metadata_filter": "eval,out.width,tags,fig.cap,-all",
   "main_language": "R",
   "notebook_metadata_filter": "-all"
  }
 },
 "nbformat": 4,
 "nbformat_minor": 4
}
