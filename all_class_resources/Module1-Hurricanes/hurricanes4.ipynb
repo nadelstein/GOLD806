{
 "cells": [
  {
   "cell_type": "raw",
   "metadata": {},
   "source": [
    "---\n",
    "title: \"Analyzing Hurricanes (part 4)\"\n",
    "output: \n",
    "  html_document:\n",
    "    toc: true\n",
    "---"
   ]
  },
  {
   "cell_type": "markdown",
   "metadata": {},
   "source": [
    "## Basic Geospatial EDA"
   ]
  },
  {
   "cell_type": "code",
   "execution_count": null,
   "metadata": {
    "tags": [
     "remove_cell"
    ]
   },
   "outputs": [],
   "source": [
    "library(dplyr)\n",
    "library(ggplot2)\n",
    "library(maps)\n",
    "library(rnaturalearth)"
   ]
  },
  {
   "cell_type": "markdown",
   "metadata": {},
   "source": [
    "In the previous parts, you were introduced to the basics of `\"dplyr\"` and \n",
    "`\"ggplot2\"`, performing various operations on the data `storms`. Because this\n",
    "data set contains geographical information such as longitude and latitude, we \n",
    "take a further step in this module in order to learn about plotting basic \n",
    "geographical maps."
   ]
  },
  {
   "cell_type": "markdown",
   "metadata": {},
   "source": [
    "You will need the following packages:\n",
    "\n",
    "```r\n",
    "library(dplyr)    # for syntactic manipulation of tables\n",
    "library(ggplot2)  # for making graphs based on tabular data\n",
    "library(maps)     # for drawing basic geographical maps\n",
    "library(rnaturalearth)   # world map data from Natural Earth\n",
    "```\n",
    "\n",
    "and the following objects:"
   ]
  },
  {
   "cell_type": "code",
   "execution_count": null,
   "metadata": {
    "lines_to_next_cell": 2
   },
   "outputs": [],
   "source": [
    "storms75 <- filter(storms, year == 1975)"
   ]
  },
  {
   "cell_type": "markdown",
   "metadata": {},
   "source": [
    "## Graphing Maps\n",
    "\n",
    "In this part, we give a basic exposure to plotting maps with `\"ggplot2\"` \n",
    "and `\"maps\"`. Keep in mind that there is a wide array of packages for graphing\n",
    "all sorts of maps, and geospatial information. Good resources to look at are:\n",
    "\n",
    "- <a href=\"https://www.r-spatial.org/r/2018/10/25/ggplot2-sf.html\" targe=\"_blank\">Drawing beautiful maps programmatically with R, sf and ggplot2</a> (by Mel Moreno and Mathieu Basille)\n",
    "\n",
    "- <a href=\"https://geocompr.robinlovelace.net/\" target=\"_blank\">Geocomputation with R</a> (by Robin Lovelace, Jakub Nowosad, and Jannes Muenchow)\n",
    "\n",
    "- <a href=\"https://eriqande.github.io/rep-res-web/lectures/making-maps-with-R.html\" target=\"_target\">Making Maps with R</a> (by Eric C. Anderson)"
   ]
  },
  {
   "cell_type": "markdown",
   "metadata": {},
   "source": [
    "### Plotting location of storm records\n",
    "\n",
    "For illustration purposes, we continue using the data frame `storms75`. Having \n",
    "latitude and longitude, we can make a scatterplot to see the location of\n",
    "the storm records. Recall that the `ggplot` function to do this is \n",
    "`geom_point()`. To distinguish each storm, we can color the \n",
    "dots by taking into account the different storm names. This involves _mapping_\n",
    "the column `name` to the `color` attribute:"
   ]
  },
  {
   "cell_type": "code",
   "execution_count": null,
   "metadata": {},
   "outputs": [],
   "source": [
    "ggplot(data = storms75, aes(x = long, y = lat, color = name)) + \n",
    "  geom_point()"
   ]
  },
  {
   "cell_type": "markdown",
   "metadata": {},
   "source": [
    "Keep in mind that the previous command can also be written as:"
   ]
  },
  {
   "cell_type": "code",
   "execution_count": null,
   "metadata": {
    "eval": false
   },
   "outputs": [],
   "source": [
    "# alternative ways to write equivalent commands\n",
    "ggplot(data = storms75) +  \n",
    "  geom_point(aes(x = long, y = lat, color = name))\n",
    "\n",
    "ggplot() +  \n",
    "  geom_point(data = storms75, aes(x = long, y = lat, color = name))"
   ]
  },
  {
   "cell_type": "markdown",
   "metadata": {},
   "source": [
    "The above scatterplot is a good starting point to visualize the location of the \n",
    "storm records, but it would be nice to have an actual image of a map. Let's\n",
    "see how to do this in the following subsections.\n"
   ]
  },
  {
   "cell_type": "markdown",
   "metadata": {},
   "source": [
    "### Basic map\n",
    "\n",
    "One of the oldest ways to plot maps in R is with the package `\"maps\"`. Nowadays,\n",
    "there are better packages for geospatial data ana making maps, but let's not \n",
    "worry about them at this moment.\n",
    "\n",
    "One rudimentary way to plot a map by first getting data of the world. `\"ggplot2\"` \n",
    "provides the function `map_data()` to create the required data table with \n",
    "geospatial information of a world map. All you have to do is specify the name \n",
    "of the map provided by the `\"maps\"` package. In this example, let's use \n",
    "the `\"world\"` map. Once we have this data, we can use it with `ggplot()`\n",
    "and a `geom_polygon()` layer like this:"
   ]
  },
  {
   "cell_type": "code",
   "execution_count": null,
   "metadata": {},
   "outputs": [],
   "source": [
    "# world map data\n",
    "world_map <- map_data(\"world\")\n",
    "\n",
    "# a default world map\n",
    "ggplot() + \n",
    "  geom_polygon(data = world_map, \n",
    "               aes(x = long, y = lat, group = group))"
   ]
  },
  {
   "cell_type": "markdown",
   "metadata": {},
   "source": [
    "In the above command, notice how we specify the `data` argument inside \n",
    "`geom_polygon()` instead of inside `ggplot()`. We do this because the data \n",
    "frame `world_map` is used to graph the layer of the map. We still need to add\n",
    "another layer---via `geom_point()`---for the coordinates indicating the \n",
    "position of each storm's record.\n",
    "\n",
    "To handle the code more easily, let's modify the map, and create a `\"ggplot\"` \n",
    "object called `gg_world`. We'll use this object as our \"canvas\" for plotting \n",
    "the storm locations:"
   ]
  },
  {
   "cell_type": "code",
   "execution_count": null,
   "metadata": {},
   "outputs": [],
   "source": [
    "# map \"canvas\" stored as gg_world\n",
    "gg_world <- ggplot() + \n",
    "  geom_polygon(data = world_map, \n",
    "               aes(x = long, y = lat, group = group), \n",
    "               fill = \"gray95\", colour = \"gray70\", size = 0.2) +\n",
    "  theme_bw()\n",
    "\n",
    "gg_world"
   ]
  },
  {
   "cell_type": "markdown",
   "metadata": {},
   "source": [
    "Now that we know how to plot a map with `ggplot()`, we can add the points of\n",
    "the storm records. This is done with `geom_point()`, and specifying `storms75` \n",
    "as the `data` argument inside this function. In other words, we are using two \n",
    "separate data frames. One is `world_map`, used to draw the polygons of the map; \n",
    "the other one is `stomrs75` to graph the dots of each storm. Notice also that \n",
    "there are no inputs provided to the function `ggplot()`."
   ]
  },
  {
   "cell_type": "code",
   "execution_count": null,
   "metadata": {},
   "outputs": [],
   "source": [
    "# world map, adding storms in 1975\n",
    "gg_world +\n",
    "  geom_point(data = storms75,\n",
    "             aes(x = long, y = lat, color = name))"
   ]
  },
  {
   "cell_type": "markdown",
   "metadata": {},
   "source": [
    "Because the analyzed hurricanes occurred in the North Atlantic basin, we can \n",
    "focus on that region by modifying the x-and-y axis limits:"
   ]
  },
  {
   "cell_type": "code",
   "execution_count": null,
   "metadata": {},
   "outputs": [],
   "source": [
    "# zoom-in\n",
    "gg_world +\n",
    "  geom_point(data = storms75,\n",
    "             aes(x = long, y = lat, color = name)) +\n",
    "  xlim(c(-150, 0)) + \n",
    "  ylim(c(0, 90))"
   ]
  },
  {
   "cell_type": "markdown",
   "metadata": {},
   "source": [
    "It's worth mentioning that this zooming-in has a secondary effect of distorting\n",
    "some of the polygons. For example, Alaska seems to get cut in half. Also the\n",
    "polygon of Colombia is incomplete. Ignoring these distortions for now, we can\n",
    "continue exploring things by taking into account more variables. For instance, \n",
    "let's map the `wind` speed to the `size` argument of points."
   ]
  },
  {
   "cell_type": "code",
   "execution_count": null,
   "metadata": {},
   "outputs": [],
   "source": [
    "gg_world +\n",
    "  geom_point(data = storms75,\n",
    "             aes(x = long, y = lat, color = name, size = wind),\n",
    "             alpha = 0.5) +\n",
    "  xlim(c(-150, 0)) + \n",
    "  ylim(c(0, 90))"
   ]
  },
  {
   "cell_type": "markdown",
   "metadata": {},
   "source": [
    "A very similar appearance can be achieved by replacing `geom_point()` with \n",
    "`geom_path()`:"
   ]
  },
  {
   "cell_type": "code",
   "execution_count": null,
   "metadata": {
    "lines_to_next_cell": 0
   },
   "outputs": [],
   "source": [
    "gg_world +\n",
    "  geom_path(data = storms75,\n",
    "             aes(x = long, y = lat, color = name, size = wind),\n",
    "             lineend = \"round\", alpha = 0.4) +\n",
    "  xlim(c(-150, 0)) + \n",
    "  ylim(c(0, 90))"
   ]
  },
  {
   "cell_type": "markdown",
   "metadata": {},
   "source": []
  },
  {
   "cell_type": "markdown",
   "metadata": {},
   "source": [
    "### More mapping approaches\n",
    "\n",
    "Another interesting map graphing approach is by using map-objects from the \n",
    "package `\"rnaturalearth\"`.\n",
    "\n",
    "We use the `ne_countries()` function---from `\"rnaturalearth\"`---to get world\n",
    "country polygons. In the following command, we specify a `medium` scale \n",
    "resolution, and a returned object of class `\"sf\"` (simple features)."
   ]
  },
  {
   "cell_type": "code",
   "execution_count": null,
   "metadata": {},
   "outputs": [],
   "source": [
    "# another world data frame\n",
    "world_df <- ne_countries(scale = \"medium\", returnclass = \"sf\")\n",
    "class(world_df)"
   ]
  },
  {
   "cell_type": "markdown",
   "metadata": {},
   "source": [
    "Now we can pass `world_df` to `ggplot()`, and use `geom_sf()` which is the \n",
    "function that allows us to visualize _simple features_ objects `\"sf\"`."
   ]
  },
  {
   "cell_type": "code",
   "execution_count": null,
   "metadata": {
    "name": "world3"
   },
   "outputs": [],
   "source": [
    "# another world map (from \"rnaturalearth\")\n",
    "ggplot(data = world_df) +\n",
    "  geom_sf() + \n",
    "  theme_bw()"
   ]
  },
  {
   "cell_type": "markdown",
   "metadata": {},
   "source": [
    "One advantage of using this other mapping approach is that we can zoom-in \n",
    "without having distorted polygons. To focus on a specfic region, we set the \n",
    "x-axis and y-axis limits with the `coord_sf()` function. Again, for coding \n",
    "convenience, let's create another `\"ggplot\"` object "
   ]
  },
  {
   "cell_type": "code",
   "execution_count": null,
   "metadata": {
    "name": "world4"
   },
   "outputs": [],
   "source": [
    "# ggplot object to be used as a canvas\n",
    "gg_world2 <- ggplot(data = world_df) +\n",
    "  geom_sf() + \n",
    "  coord_sf(xlim = c(-150, 0), ylim = c(0, 90), expand = TRUE) +\n",
    "  theme_bw()\n",
    "\n",
    "gg_world2"
   ]
  },
  {
   "cell_type": "markdown",
   "metadata": {},
   "source": [
    "Now let's add the storms:"
   ]
  },
  {
   "cell_type": "code",
   "execution_count": null,
   "metadata": {
    "name": "storms75map5"
   },
   "outputs": [],
   "source": [
    "gg_world2 + \n",
    "  geom_path(data = storms75,\n",
    "            aes(x = long, y = lat, color = name),\n",
    "            lineend = \"round\", size = 2, alpha = 0.8)"
   ]
  },
  {
   "cell_type": "code",
   "execution_count": null,
   "metadata": {
    "eval": false,
    "lines_to_next_cell": 0,
    "name": "storms75map6",
    "tags": [
     "remove_input"
    ]
   },
   "outputs": [],
   "source": [
    "gg_world2 + \n",
    "  geom_point(data = storms75,\n",
    "             aes(x = long, y = lat, color = name, size = wind),\n",
    "             alpha = 0.5)"
   ]
  },
  {
   "cell_type": "markdown",
   "metadata": {},
   "source": []
  },
  {
   "cell_type": "markdown",
   "metadata": {},
   "source": [
    "### Storms from 1975 to 1980\n",
    "\n",
    "As a simple experiment, let's graph storms between 1975 and 1980 (six years). \n",
    "First we create a dedicated data table `storms_75_80` to select the rows we are\n",
    "interested in:"
   ]
  },
  {
   "cell_type": "code",
   "execution_count": null,
   "metadata": {},
   "outputs": [],
   "source": [
    "storms_75_80 <- filter(storms, year %in% 1975:1980)"
   ]
  },
  {
   "cell_type": "markdown",
   "metadata": {},
   "source": [
    "And then we can use `facet_wrap(~ year)` to graph storms by year:"
   ]
  },
  {
   "cell_type": "code",
   "execution_count": null,
   "metadata": {
    "fig.asp": 0.9,
    "lines_to_next_cell": 0,
    "out.width": "90%"
   },
   "outputs": [],
   "source": [
    "gg_world +\n",
    "  geom_path(data = storms_75_80,\n",
    "             aes(x = long, y = lat, group = name),\n",
    "             lineend = \"round\") +\n",
    "  xlim(c(-150, 0)) + \n",
    "  ylim(c(0, 90)) + \n",
    "  facet_wrap(~ year)"
   ]
  },
  {
   "cell_type": "markdown",
   "metadata": {},
   "source": []
  },
  {
   "cell_type": "markdown",
   "metadata": {},
   "source": [
    "### Exercises\n",
    "\n",
    "__1)__ Filter storms in the 1980's decade (1980 - 1989) and make a plot, with \n",
    "facets by `month` as well as by `year` \n",
    "\n",
    "- Which year seems to have the largest number of storms?\n",
    "- Which year seems to have the smallest number of storms?\n",
    "- Does it seem to be a pattern (e.g. increasing number of storms over years)?\n",
    "\n",
    "__2)__ Take the previous data, storms in the 1980's decade, and make a plot, \n",
    "with but this time with facets by `month`. \n",
    "\n",
    "- What is the most active month?\n",
    "- What is the least active month?\n",
    "- Are there months without any storms?\n"
   ]
  }
 ],
 "metadata": {
  "jupytext": {
   "cell_metadata_filter": "fig.asp,name,out.width,eval,tags,-all",
   "main_language": "R",
   "notebook_metadata_filter": "-all"
  }
 },
 "nbformat": 4,
 "nbformat_minor": 4
}
