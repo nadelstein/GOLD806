{
 "cells": [
  {
   "cell_type": "raw",
   "metadata": {},
   "source": [
    "---\n",
    "title: \"Analyzing Hurricanes (part 1)\"\n",
    "output: \n",
    "  html_document:\n",
    "    toc: true\n",
    "---"
   ]
  },
  {
   "cell_type": "code",
   "execution_count": null,
   "metadata": {
    "name": "setup",
    "tags": [
     "remove_cell"
    ]
   },
   "outputs": [],
   "source": [
    "knitr::opts_chunk$set(echo = TRUE)"
   ]
  },
  {
   "cell_type": "markdown",
   "metadata": {},
   "source": [
    "> - In this part we provide an introduction to the topic of Hurricanes.\n",
    "> - Watch the youtube video: \"How do hurricanes form?\"\n",
    "> - Become familiar with common terms associated to Hurricanes."
   ]
  },
  {
   "cell_type": "markdown",
   "metadata": {},
   "source": [
    "## Introduction"
   ]
  },
  {
   "cell_type": "code",
   "execution_count": null,
   "metadata": {
    "fig.cap": "NASA satellite image of hurricane Sandy, 2012 (source: wikimedia commons)",
    "lines_to_next_cell": 2,
    "out.width": "75%",
    "tags": [
     "remove_input"
    ]
   },
   "outputs": [],
   "source": [
    "knitr::include_graphics(\"https://upload.wikimedia.org/wikipedia/commons/thumb/9/95/NASA_Satellites_See_Sandy_Expand_as_Storm_Intensifies_%288131409082%29.jpg/576px-NASA_Satellites_See_Sandy_Expand_as_Storm_Intensifies_%288131409082%29.jpg\")"
   ]
  },
  {
   "cell_type": "markdown",
   "metadata": {},
   "source": [
    "> \"Hurricane Sandy (unofficially referred to as Superstorm Sandy) was the \n",
    "> deadliest and most destructive, as well as the strongest, hurricane of the \n",
    "> 2012 Atlantic hurricane season. Inflicting nearly $70 billion (2012 USD) in \n",
    "> damage, it was the second-costliest hurricane on record in the United States \n",
    "> until surpassed by Hurricanes Harvey and Maria in 2017.\n",
    "\n",
    "https://en.wikipedia.org/wiki/Hurricane_Sandy"
   ]
  },
  {
   "cell_type": "markdown",
   "metadata": {},
   "source": [
    "### Hurricanes and Climate Change\n",
    "\n",
    "- Hurricanes are a natural part of our climate system.\n",
    "\n",
    "- Recent research suggests an increase in intense hurricane activity in the \n",
    "North Atlantic since the 1970s.\n",
    "\n",
    "- In the future, there may not necessarily be more hurricanes, but there will \n",
    "likely be more intense hurricanes (higher wind speeds and more precipitation).\n",
    "\n",
    "- The impacts of this trend are likely to be exacerbated by sea level rise and \n",
    "a growing population along coastlines.\n",
    "\n",
    "_\"Hurricanes and Climate Change\"_ article published here:\n",
    "\n",
    "https://www.ucsusa.org/resources/hurricanes-and-climate-change\n",
    "\n",
    "> New research estimates that as the Earth has warmed, the probability of a \n",
    "> storm with precipitation levels like Hurricane Harvey was higher in Texas in \n",
    "> 2017 than it was at the end of the twentieth century. Because of climate \n",
    "> change, such a storm evolved from a once in every 100 years event to a once \n",
    "> in every 16 years event over this time period.\n"
   ]
  },
  {
   "cell_type": "markdown",
   "metadata": {},
   "source": [
    "## A little bit about Hurricanes"
   ]
  },
  {
   "cell_type": "markdown",
   "metadata": {},
   "source": [
    "NOAA SciJinks has a webpage about basic information on hurricaces.\n",
    "\n",
    "<a href=\"https://scijinks.gov/hurricane/\" target=\"_blank\">https://scijinks.gov/hurricane/</a>\n",
    "\n",
    "</br>\n",
    "\n",
    "<iframe width=\"520\" height=\"301\" src=\"https://www.youtube.com/embed/wPDoIrGUrEc\" frameborder=\"0\" allow=\"accelerometer; autoplay; encrypted-media; gyroscope; picture-in-picture\" allowfullscreen></iframe>\n",
    "\n",
    "</br>\n",
    "\n",
    "- Hurricanes are the most violent storms on Earth. \n",
    "\n",
    "- People call these storms by other names, such as typhoons or cyclones,\n",
    "depending on where they occur.\n",
    "\n",
    "- The scientific term for all these storms is tropical cyclone.\n",
    "\n",
    "- Only tropical cyclones that form over the Atlantic Ocean or eastern Pacific\n",
    "Ocean are called \"hurricanes.\"\n",
    "\n",
    "- A tropical cyclone is a rotating low-pressure weather system that has \n",
    "organized thunderstorms but no fronts.\n",
    "\n",
    "- Hurricanes are tropical cyclones whose sustained winds have reached 74 mph.\n",
    "\n",
    "- At this point the hurricane reaches category 1 on the Saffir-Simpson \n",
    "Hurricane Wind Scale,\n",
    "\n",
    "- Saffir-Simpson Hurricane Wind Scale is a 1 to 5 rating based on a hurricane's \n",
    "sustained wind speed:\n",
    "\n",
    "  + cateory 1: 74-95 mph; 64-82 kt; 119-153 km/h\n",
    "  + cateory 2: 96-110 mph; 83-95 kt; 154-177 km/h\n",
    "  + cateory 3: 111-129 mph; 96-112 kt; 178-208 km/h\n",
    "  + cateory 4: 130-156 mph; 113-136 kt; 209-251 km/h\n",
    "  + cateory 5: 157 mph or higher; 137 kt or higher; 252 km/h or higher"
   ]
  },
  {
   "cell_type": "markdown",
   "metadata": {},
   "source": [
    "- Major hurricanes are defined as Category 3, 4, and 5 storms.\n",
    "\n",
    "- The official Atlantic hurricane season runs from June through November, but\n",
    "occasionally storms form outside those months.\n",
    "\n",
    "- September is the most active month (where most of the hurricanes occur),\n",
    "followed by August, and October (based on 1851 to 2015 data).\n",
    "\n",
    "- A typical year has 12 named storms, including six hurricanes of which three \n",
    "become major hurricanes (category 3, 4, and 5).\n",
    "\n",
    "- No hurricanes made U.S. landfall before June and after November during the period studied (1851 to 2015 data)."
   ]
  },
  {
   "cell_type": "markdown",
   "metadata": {},
   "source": [
    "## How do hurricanes form?"
   ]
  },
  {
   "cell_type": "code",
   "execution_count": null,
   "metadata": {
    "fig.cap": "How do hurricanes form? (source: SciJinks)",
    "lines_to_next_cell": 0,
    "out.width": "75%",
    "tags": [
     "remove_input"
    ]
   },
   "outputs": [],
   "source": [
    "knitr::include_graphics(\"https://scijinks.gov/review/hurricane/hurricanes_poster_large.jpg\")"
   ]
  },
  {
   "cell_type": "markdown",
   "metadata": {},
   "source": []
  },
  {
   "cell_type": "markdown",
   "metadata": {},
   "source": [
    "## Hurricane Tracks Data\n",
    "\n",
    "The data set that we are going to analyze comes from \n",
    "__Hurricane Databases (HURDAT)__, managed by the National Hurricane Center (NHC).\n",
    "\n",
    "- HURDAT involves two databases: one for storms occurring in the \n",
    "__Atlantic Ocean__, and another one for storsm occurring in the \n",
    "__Eastern Pacific Ocean__.\n",
    "\n",
    "- HURDAT contains records from year 1851 till present.\n",
    "\n",
    "- Keep in mind that in the past (before 1970s?), tropical depressions, that did\n",
    "not develop into tropical storms or hurricanes were not included within the \n",
    "database."
   ]
  },
  {
   "cell_type": "markdown",
   "metadata": {},
   "source": [
    "_From Wikipedia_: around 1963, NASA's Apollo space programme requested data, on \n",
    "the climatological impacts of tropical cyclones on launches of space vehicles at \n",
    "the Kennedy Space Center. The basic data was taken from the National Weather\n",
    "Records North Atlantic Tropical to include data from 1886–1968. As a result of \n",
    "this work, a requirement for a computerized tropical cyclone database at the \n",
    "National Hurricane Centre (NHC) was realised\n",
    "\n",
    "https://en.wikipedia.org/wiki/HURDAT\n",
    "\n"
   ]
  },
  {
   "cell_type": "markdown",
   "metadata": {},
   "source": [
    "## Resources\n",
    "\n",
    "- https://www.ucsusa.org/resources/hurricanes-and-climate-change\n",
    "\n",
    "- https://spaceplace.nasa.gov/hurricanes/en/\n",
    "\n",
    "- https://en.wikipedia.org/wiki/Hurricane_Sandy\n",
    "\n",
    "- https://www.iii.org/fact-statistic/facts-statistics-hurricanes\n",
    "\n",
    "- https://www.nhc.noaa.gov/data/\n",
    "\n",
    "- Data HURDAT2: https://www.nhc.noaa.gov/data/hurdat/hurdat2-1851-2019-052520.txt\n",
    "\n",
    "- SSHW scale: https://www.nhc.noaa.gov/aboutsshws.php\n"
   ]
  }
 ],
 "metadata": {
  "jupytext": {
   "cell_metadata_filter": "out.width,tags,name,fig.cap,-all",
   "main_language": "R",
   "notebook_metadata_filter": "-all"
  }
 },
 "nbformat": 4,
 "nbformat_minor": 4
}
