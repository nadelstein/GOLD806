{
 "cells": [
  {
   "cell_type": "markdown",
   "metadata": {},
   "source": [
    "# Module 1 Project Introduction\n",
    "## Background Information on Ocean Acidficiation and Anthropogenic CO$_2$ <a id='topofdoc'></a>"
   ]
  },
  {
   "cell_type": "markdown",
   "metadata": {},
   "source": [
    "[Today's Goal](#todaysgoal) : The goal of this notebook is to show how carbon pollution is causing ocean acidification. In addition, you will practice your skills importing data and plotting using R."
   ]
  },
  {
   "cell_type": "markdown",
   "metadata": {},
   "source": [
    "To make the notebook easy to execute, longer text information is provided through hyperlinks at the [bottom of this notebook](#INFOjupyternotebook).\n",
    "\n"
   ]
  },
  {
   "cell_type": "markdown",
   "metadata": {},
   "source": [
    "### 1.1 [Motivation](#motivation) to study pH of oceans:\n"
   ]
  },
  {
   "cell_type": "markdown",
   "metadata": {},
   "source": [
    "Your first data set is from Hawaii, where scientists measured the pH and atmospheric CO$_2$ concentration over many years. \n",
    "\n",
    "We will use this data to explore the rise in CO$_2$ and ocean acidification."
   ]
  },
  {
   "cell_type": "markdown",
   "metadata": {},
   "source": [
    "Together we'll watch a interview with Dr. Kaho Tisthammer, a previous post-doc at SFSU, who will tell about her research on the effect of pollutants on corals and the impacts of climate change on the oceans. "
   ]
  },
  {
   "cell_type": "markdown",
   "metadata": {},
   "source": [
    "<img src=\"images/coral-reefs-NatGeo.jpg\" width=300 height=300 />\n",
    "https://www.nationalgeographic.com/science/2020/06/scientists-work-to-save-coral-reefs-climate-change-marine-parks/"
   ]
  },
  {
   "cell_type": "code",
   "execution_count": 1,
   "metadata": {},
   "outputs": [],
   "source": [
    "library(IRdisplay)"
   ]
  },
  {
   "cell_type": "code",
   "execution_count": 4,
   "metadata": {
    "scrolled": true
   },
   "outputs": [
    {
     "data": {
      "text/html": [
       "<iframe width=\"560\" height=\"315\" src=\"https://www.dropbox.com/s/9htp64w1kq37dpy/KahoTisthammerMovie.mp4?raw=1\" frameborder=\"0\" allow=\"accelerometer; autoplay = False ; encrypted-media; gyroscope; picture-in-picture;  type=\"video/mp4\"\" allowfullscreen></iframe>"
      ]
     },
     "metadata": {},
     "output_type": "display_data"
    }
   ],
   "source": [
    "library(IRdisplay)\n",
    "display_html('<iframe width=\"560\" height=\"315\" src=\"https://www.dropbox.com/s/9htp64w1kq37dpy/KahoTisthammerMovie.mp4?raw=1\" frameborder=\"0\" allow=\"accelerometer; autoplay = False ; encrypted-media; gyroscope; picture-in-picture;  type=\"video/mp4\"\" allowfullscreen></iframe>')"
   ]
  },
  {
   "cell_type": "markdown",
   "metadata": {},
   "source": [
    "Later we'll watch another video from Professor Nicole Adelstein at SFSU to explain the chemistry behind pH and CO$_2$ concentration. Before we consider the theory behind ocean acidification, let's explore the data measured near Hawaii!"
   ]
  },
  {
   "cell_type": "markdown",
   "metadata": {},
   "source": [
    "### 1.2 Data Provenance (citations): "
   ]
  },
  {
   "cell_type": "markdown",
   "metadata": {},
   "source": [
    "We will use a freely available [dataset](#epa) provided from the Environmental Protection Agency (EPA). The data gives the pH and CO$_2$ concentration in the ocean near Hawaii, the Canaray Islands, and Bermuda. Here is an example of the first 10 rows of data from Hawaii, opened with Excel and example plots given from the EPA's website.\n",
    "\n",
    "What are some trends you see from the plots?"
   ]
  },
  {
   "cell_type": "markdown",
   "metadata": {},
   "source": [
    "<img src=\"images/Excel_data.png\" width=200 height=200 />\n",
    "<img src=\"images/EDA-planning.png\" width=500 height=500 />"
   ]
  },
  {
   "cell_type": "markdown",
   "metadata": {},
   "source": [
    "We are eventually going to plot CO$_2$ versus pH, to examine the correlation. To start, we'll reproduce the lower left plot, pCO$_2$ versus time for Hawaii. Note, measurement of dissolved CO$_2$ is a partial pressure in micro-atmospheres. \n",
    "\n",
    "Note, the rise in CO$_2$ over the last couple hundred years has been proven to be from anthropogenic carbon (generated from humans). We need to figure out how to reduce our carbon output!\n",
    "\n",
    "Of course, if you are familiar with Excel, you could make the plot with Excel. But we're here to learn how to write R code to analyze data!"
   ]
  },
  {
   "cell_type": "markdown",
   "metadata": {},
   "source": [
    "### 1.3 Importing data:  we need to \"get\" the data to analyze it"
   ]
  },
  {
   "cell_type": "markdown",
   "metadata": {},
   "source": [
    "Your instructors did a little bit of data cleaning when we downloaded the data from the EPA's website. You'll learn about data cleaning later in this course. When you import our cleaned data, the only thing you'll need to do is give each column a title.\n",
    "\n",
    "Now we have a video describing data importation to watch. You can [read](#importdata) about it at the bottom of the document, too!\n",
    "\n",
    "Once you have the data in a folder named Data, you will import it using the two input boxes below. "
   ]
  },
  {
   "cell_type": "markdown",
   "metadata": {},
   "source": [
    "Hopefully this data will already be uploaded to the Jupyter Hub and is located in a directory titled, Data. \n",
    "\n",
    "Reminder: Push SHIFT+ENTER in the cell below to save the variable name."
   ]
  },
  {
   "cell_type": "code",
   "execution_count": 6,
   "metadata": {},
   "outputs": [],
   "source": [
    "filename = \"../Data/Hawaii-ocean-acidity.csv\""
   ]
  },
  {
   "cell_type": "markdown",
   "metadata": {},
   "source": [
    "The general scheme needed to import data in a script is: 1) identify the structure of the data or set the structure, if you made the data. 2) Then identify the location of the data - its path on your computer. 3) Next, open that file in the script (generate a pointer to that file's location). 4) Read each line of the file or read it all at once. 5) Finally, save the data into appropriately named variables or a data frame\n",
    "    \n",
    "In R, we can do 4 and 5 in one line of code. \n",
    "\n",
    "ClimateData will be the name of the data frame where we store the data. \n",
    "\n",
    "read.csv is the function we use to read the data. \n",
    "\n",
    "filename is the location of the data (as we set in the previous cell). \n",
    "\n",
    "We also include the following two arguments: \n",
    "\n",
    "header = FALSE,\n",
    "col.names  = c(\"Date\",\"pH\",\"pCO2\") \n",
    "\n",
    "to set the names of the columns in the data frame. "
   ]
  },
  {
   "cell_type": "code",
   "execution_count": 7,
   "metadata": {},
   "outputs": [],
   "source": [
    "ClimateData <- read.csv(filename, header = FALSE, col.names  = c(\"Date\",\"pH\",\"pCO2\"))"
   ]
  },
  {
   "cell_type": "markdown",
   "metadata": {},
   "source": [
    "#### Viewing Dataframes"
   ]
  },
  {
   "cell_type": "markdown",
   "metadata": {},
   "source": [
    "Use two the functions, str() and head() to make sure your import looks correct:"
   ]
  },
  {
   "cell_type": "code",
   "execution_count": 8,
   "metadata": {},
   "outputs": [
    {
     "name": "stdout",
     "output_type": "stream",
     "text": [
      "'data.frame':\t261 obs. of  3 variables:\n",
      " $ Date: num  1989 1989 1989 1989 1989 ...\n",
      " $ pH  : num  8.11 8.11 8.12 8.13 8.12 ...\n",
      " $ pCO2: num  331 331 324 311 318 ...\n"
     ]
    }
   ],
   "source": [
    "str(ClimateData)"
   ]
  },
  {
   "cell_type": "code",
   "execution_count": 6,
   "metadata": {
    "scrolled": true
   },
   "outputs": [
    {
     "data": {
      "text/html": [
       "<table>\n",
       "<thead><tr><th scope=col>Date</th><th scope=col>pH</th><th scope=col>pCO2</th></tr></thead>\n",
       "<tbody>\n",
       "\t<tr><td>1988.833</td><td>8.1097  </td><td>330.9   </td></tr>\n",
       "\t<tr><td>1988.921</td><td>8.1092  </td><td>330.6   </td></tr>\n",
       "\t<tr><td>1989.022</td><td>8.1168  </td><td>324.3   </td></tr>\n",
       "\t<tr><td>1989.156</td><td>8.1316  </td><td>310.9   </td></tr>\n",
       "\t<tr><td>1989.236</td><td>8.1218  </td><td>317.7   </td></tr>\n",
       "\t<tr><td>1989.378</td><td>8.1158  </td><td>326.2   </td></tr>\n",
       "</tbody>\n",
       "</table>\n"
      ],
      "text/latex": [
       "\\begin{tabular}{r|lll}\n",
       " Date & pH & pCO2\\\\\n",
       "\\hline\n",
       "\t 1988.833 & 8.1097   & 330.9   \\\\\n",
       "\t 1988.921 & 8.1092   & 330.6   \\\\\n",
       "\t 1989.022 & 8.1168   & 324.3   \\\\\n",
       "\t 1989.156 & 8.1316   & 310.9   \\\\\n",
       "\t 1989.236 & 8.1218   & 317.7   \\\\\n",
       "\t 1989.378 & 8.1158   & 326.2   \\\\\n",
       "\\end{tabular}\n"
      ],
      "text/markdown": [
       "\n",
       "| Date | pH | pCO2 |\n",
       "|---|---|---|\n",
       "| 1988.833 | 8.1097   | 330.9    |\n",
       "| 1988.921 | 8.1092   | 330.6    |\n",
       "| 1989.022 | 8.1168   | 324.3    |\n",
       "| 1989.156 | 8.1316   | 310.9    |\n",
       "| 1989.236 | 8.1218   | 317.7    |\n",
       "| 1989.378 | 8.1158   | 326.2    |\n",
       "\n"
      ],
      "text/plain": [
       "  Date     pH     pCO2 \n",
       "1 1988.833 8.1097 330.9\n",
       "2 1988.921 8.1092 330.6\n",
       "3 1989.022 8.1168 324.3\n",
       "4 1989.156 8.1316 310.9\n",
       "5 1989.236 8.1218 317.7\n",
       "6 1989.378 8.1158 326.2"
      ]
     },
     "metadata": {},
     "output_type": "display_data"
    }
   ],
   "source": [
    "head(ClimateData)"
   ]
  },
  {
   "cell_type": "markdown",
   "metadata": {},
   "source": [
    "Use the format dataframename$columnname to view the contents of a column. Becareful if your dataframe is very large/long!"
   ]
  },
  {
   "cell_type": "code",
   "execution_count": 14,
   "metadata": {},
   "outputs": [
    {
     "data": {
      "text/html": [
       "<ol class=list-inline>\n",
       "\t<li>1988.833333</li>\n",
       "\t<li>1988.920765</li>\n",
       "\t<li>1989.021918</li>\n",
       "\t<li>1989.156164</li>\n",
       "\t<li>1989.235616</li>\n",
       "\t<li>1989.378082</li>\n",
       "\t<li>1989.479452</li>\n",
       "\t<li>1989.575342</li>\n",
       "\t<li>1989.646575</li>\n",
       "\t<li>1989.726027</li>\n",
       "\t<li>1989.79726</li>\n",
       "\t<li>1989.906849</li>\n",
       "\t<li>1990.013699</li>\n",
       "\t<li>1990.126027</li>\n",
       "\t<li>1990.213699</li>\n",
       "\t<li>1990.282192</li>\n",
       "\t<li>1990.353425</li>\n",
       "\t<li>1990.449315</li>\n",
       "\t<li>1990.564384</li>\n",
       "\t<li>1990.70411</li>\n",
       "\t<li>1990.964384</li>\n",
       "\t<li>1991.093151</li>\n",
       "\t<li>1991.180822</li>\n",
       "\t<li>1991.273973</li>\n",
       "\t<li>1991.350685</li>\n",
       "\t<li>1991.427397</li>\n",
       "\t<li>1991.523288</li>\n",
       "\t<li>1991.608219</li>\n",
       "\t<li>1991.715068</li>\n",
       "\t<li>1991.805479</li>\n",
       "\t<li>1991.934247</li>\n",
       "\t<li>1992.013661</li>\n",
       "\t<li>1992.125683</li>\n",
       "\t<li>1992.180328</li>\n",
       "\t<li>1992.295082</li>\n",
       "\t<li>1992.439891</li>\n",
       "\t<li>1992.510929</li>\n",
       "\t<li>1992.595628</li>\n",
       "\t<li>1992.729508</li>\n",
       "\t<li>1992.803279</li>\n",
       "\t<li>1992.898907</li>\n",
       "\t<li>1992.959016</li>\n",
       "\t<li>1993.054795</li>\n",
       "\t<li>1993.131507</li>\n",
       "\t<li>1993.287671</li>\n",
       "\t<li>1993.386301</li>\n",
       "\t<li>1993.706849</li>\n",
       "\t<li>1993.830137</li>\n",
       "\t<li>1994.054795</li>\n",
       "\t<li>1994.131507</li>\n",
       "\t<li>1994.186301</li>\n",
       "\t<li>1994.465753</li>\n",
       "\t<li>1994.564384</li>\n",
       "\t<li>1994.663014</li>\n",
       "\t<li>1994.728767</li>\n",
       "\t<li>1994.789041</li>\n",
       "\t<li>1994.884932</li>\n",
       "\t<li>1995.10137</li>\n",
       "\t<li>1995.172603</li>\n",
       "\t<li>1995.263014</li>\n",
       "\t<li>1995.347945</li>\n",
       "\t<li>1995.578082</li>\n",
       "\t<li>1995.660274</li>\n",
       "\t<li>1995.736986</li>\n",
       "\t<li>1995.821918</li>\n",
       "\t<li>1995.879452</li>\n",
       "\t<li>1996.046448</li>\n",
       "\t<li>1996.237705</li>\n",
       "\t<li>1996.314208</li>\n",
       "\t<li>1996.39071</li>\n",
       "\t<li>1996.486339</li>\n",
       "\t<li>1996.571038</li>\n",
       "\t<li>1996.639344</li>\n",
       "\t<li>1996.754098</li>\n",
       "\t<li>1996.830601</li>\n",
       "\t<li>1996.945355</li>\n",
       "\t<li>1997.021918</li>\n",
       "\t<li>1997.134247</li>\n",
       "\t<li>1997.194521</li>\n",
       "\t<li>1997.271233</li>\n",
       "\t<li>1997.347945</li>\n",
       "\t<li>1997.424658</li>\n",
       "\t<li>1997.520548</li>\n",
       "\t<li>1997.586301</li>\n",
       "\t<li>1997.734247</li>\n",
       "\t<li>1997.928767</li>\n",
       "\t<li>1998.030137</li>\n",
       "\t<li>1998.136986</li>\n",
       "\t<li>1998.210959</li>\n",
       "\t<li>1998.287671</li>\n",
       "\t<li>1998.364384</li>\n",
       "\t<li>1998.460274</li>\n",
       "\t<li>1998.536986</li>\n",
       "\t<li>1998.608219</li>\n",
       "\t<li>1998.742466</li>\n",
       "\t<li>1998.8</li>\n",
       "\t<li>1998.863014</li>\n",
       "\t<li>1998.939726</li>\n",
       "\t<li>1999.035616</li>\n",
       "\t<li>1999.134247</li>\n",
       "\t<li>1999.208219</li>\n",
       "\t<li>1999.284932</li>\n",
       "\t<li>1999.356164</li>\n",
       "\t<li>1999.534247</li>\n",
       "\t<li>1999.616438</li>\n",
       "\t<li>1999.789041</li>\n",
       "\t<li>1999.857534</li>\n",
       "\t<li>1999.956164</li>\n",
       "\t<li>2000.092896</li>\n",
       "\t<li>2000.166667</li>\n",
       "\t<li>2000.243169</li>\n",
       "\t<li>2000.319672</li>\n",
       "\t<li>2000.398907</li>\n",
       "\t<li>2000.472678</li>\n",
       "\t<li>2000.568306</li>\n",
       "\t<li>2000.644809</li>\n",
       "\t<li>2000.797814</li>\n",
       "\t<li>2000.915301</li>\n",
       "\t<li>2000.969945</li>\n",
       "\t<li>2001.046575</li>\n",
       "\t<li>2001.123288</li>\n",
       "\t<li>2001.219178</li>\n",
       "\t<li>2001.29589</li>\n",
       "\t<li>2001.372603</li>\n",
       "\t<li>2001.452055</li>\n",
       "\t<li>2001.526027</li>\n",
       "\t<li>2001.60274</li>\n",
       "\t<li>2001.753425</li>\n",
       "\t<li>2001.810959</li>\n",
       "\t<li>2001.879452</li>\n",
       "\t<li>2001.953425</li>\n",
       "\t<li>2002.043836</li>\n",
       "\t<li>2002.142466</li>\n",
       "\t<li>2002.19726</li>\n",
       "\t<li>2002.386301</li>\n",
       "\t<li>2002.493151</li>\n",
       "\t<li>2002.657534</li>\n",
       "\t<li>2002.767123</li>\n",
       "\t<li>2002.843836</li>\n",
       "\t<li>2002.90137</li>\n",
       "\t<li>2002.967123</li>\n",
       "\t<li>2003.046575</li>\n",
       "\t<li>2003.156164</li>\n",
       "\t<li>2003.241096</li>\n",
       "\t<li>2003.312329</li>\n",
       "\t<li>2003.386301</li>\n",
       "\t<li>2003.468493</li>\n",
       "\t<li>2003.550685</li>\n",
       "\t<li>2003.638356</li>\n",
       "\t<li>2003.789041</li>\n",
       "\t<li>2003.860274</li>\n",
       "\t<li>2003.969863</li>\n",
       "\t<li>2004.060109</li>\n",
       "\t<li>2004.153005</li>\n",
       "\t<li>2004.218579</li>\n",
       "\t<li>2004.306011</li>\n",
       "\t<li>2004.382514</li>\n",
       "\t<li>2004.459016</li>\n",
       "\t<li>2004.532787</li>\n",
       "\t<li>2004.625683</li>\n",
       "\t<li>2004.745902</li>\n",
       "\t<li>2004.833333</li>\n",
       "\t<li>2004.909836</li>\n",
       "\t<li>2004.972678</li>\n",
       "\t<li>2005.090411</li>\n",
       "\t<li>2005.175342</li>\n",
       "\t<li>2005.378082</li>\n",
       "\t<li>2005.454795</li>\n",
       "\t<li>2005.542466</li>\n",
       "\t<li>2005.619178</li>\n",
       "\t<li>2005.693151</li>\n",
       "\t<li>2005.772603</li>\n",
       "\t<li>2005.865753</li>\n",
       "\t<li>2005.950685</li>\n",
       "\t<li>2006.068493</li>\n",
       "\t<li>2006.126027</li>\n",
       "\t<li>2006.189041</li>\n",
       "\t<li>2006.252055</li>\n",
       "\t<li>2006.40274</li>\n",
       "\t<li>2006.452055</li>\n",
       "\t<li>2006.531507</li>\n",
       "\t<li>2006.605479</li>\n",
       "\t<li>2006.709589</li>\n",
       "\t<li>2006.805479</li>\n",
       "\t<li>2006.857534</li>\n",
       "\t<li>2006.942466</li>\n",
       "\t<li>2007.10411</li>\n",
       "\t<li>2007.219178</li>\n",
       "\t<li>2007.342466</li>\n",
       "\t<li>2007.517808</li>\n",
       "\t<li>2007.591781</li>\n",
       "\t<li>2007.673973</li>\n",
       "\t<li>2007.756164</li>\n",
       "\t<li>2007.920548</li>\n",
       "\t<li>2007.972603</li>\n",
       "\t<li>2008.081967</li>\n",
       "\t<li>2008.150273</li>\n",
       "\t<li>2008.407104</li>\n",
       "\t<li>2008.486339</li>\n",
       "\t<li>2008.571038</li>\n",
       "\t<li>2008.628415</li>\n",
       "\t<li>2008.778689</li>\n",
       "\t<li>2008.918033</li>\n",
       "\t<li>2009.057534</li>\n",
       "\t<li>2009.134247</li>\n",
       "\t<li>2009.326027</li>\n",
       "\t<li>2009.405479</li>\n",
       "\t<li>2009.506849</li>\n",
       "\t<li>2009.564384</li>\n",
       "\t<li>2009.632877</li>\n",
       "\t<li>2009.734247</li>\n",
       "\t<li>2009.843836</li>\n",
       "\t<li>2009.942466</li>\n",
       "\t<li>2010.189041</li>\n",
       "\t<li>2010.265753</li>\n",
       "\t<li>2010.380822</li>\n",
       "\t<li>2010.438356</li>\n",
       "\t<li>2010.520548</li>\n",
       "\t<li>2010.60274</li>\n",
       "\t<li>2010.676712</li>\n",
       "\t<li>2010.758904</li>\n",
       "\t<li>2010.890411</li>\n",
       "\t<li>2011.079452</li>\n",
       "\t<li>2011.164384</li>\n",
       "\t<li>2011.279452</li>\n",
       "\t<li>2011.356164</li>\n",
       "\t<li>2011.550685</li>\n",
       "\t<li>2011.663014</li>\n",
       "\t<li>2011.739726</li>\n",
       "\t<li>2011.846575</li>\n",
       "\t<li>2011.912329</li>\n",
       "\t<li>2011.969863</li>\n",
       "\t<li>2012.051913</li>\n",
       "\t<li>2012.23224</li>\n",
       "\t<li>2012.336066</li>\n",
       "\t<li>2012.415301</li>\n",
       "\t<li>2012.489071</li>\n",
       "\t<li>2012.584699</li>\n",
       "\t<li>2012.631148</li>\n",
       "\t<li>2012.70765</li>\n",
       "\t<li>2012.770492</li>\n",
       "\t<li>2012.92623</li>\n",
       "\t<li>2013.120548</li>\n",
       "\t<li>2013.180822</li>\n",
       "\t<li>2013.263014</li>\n",
       "\t<li>2013.378082</li>\n",
       "\t<li>2013.484932</li>\n",
       "\t<li>2013.69863</li>\n",
       "\t<li>2013.753425</li>\n",
       "\t<li>2013.824658</li>\n",
       "\t<li>2013.906849</li>\n",
       "\t<li>2013.972603</li>\n",
       "\t<li>2014.043836</li>\n",
       "\t<li>2014.126027</li>\n",
       "\t<li>2014.178082</li>\n",
       "\t<li>2014.276712</li>\n",
       "\t<li>2014.416438</li>\n",
       "\t<li>2014.49863</li>\n",
       "\t<li>2014.706849</li>\n",
       "\t<li>2014.786301</li>\n",
       "\t<li>2014.893151</li>\n",
       "</ol>\n"
      ],
      "text/latex": [
       "\\begin{enumerate*}\n",
       "\\item 1988.833333\n",
       "\\item 1988.920765\n",
       "\\item 1989.021918\n",
       "\\item 1989.156164\n",
       "\\item 1989.235616\n",
       "\\item 1989.378082\n",
       "\\item 1989.479452\n",
       "\\item 1989.575342\n",
       "\\item 1989.646575\n",
       "\\item 1989.726027\n",
       "\\item 1989.79726\n",
       "\\item 1989.906849\n",
       "\\item 1990.013699\n",
       "\\item 1990.126027\n",
       "\\item 1990.213699\n",
       "\\item 1990.282192\n",
       "\\item 1990.353425\n",
       "\\item 1990.449315\n",
       "\\item 1990.564384\n",
       "\\item 1990.70411\n",
       "\\item 1990.964384\n",
       "\\item 1991.093151\n",
       "\\item 1991.180822\n",
       "\\item 1991.273973\n",
       "\\item 1991.350685\n",
       "\\item 1991.427397\n",
       "\\item 1991.523288\n",
       "\\item 1991.608219\n",
       "\\item 1991.715068\n",
       "\\item 1991.805479\n",
       "\\item 1991.934247\n",
       "\\item 1992.013661\n",
       "\\item 1992.125683\n",
       "\\item 1992.180328\n",
       "\\item 1992.295082\n",
       "\\item 1992.439891\n",
       "\\item 1992.510929\n",
       "\\item 1992.595628\n",
       "\\item 1992.729508\n",
       "\\item 1992.803279\n",
       "\\item 1992.898907\n",
       "\\item 1992.959016\n",
       "\\item 1993.054795\n",
       "\\item 1993.131507\n",
       "\\item 1993.287671\n",
       "\\item 1993.386301\n",
       "\\item 1993.706849\n",
       "\\item 1993.830137\n",
       "\\item 1994.054795\n",
       "\\item 1994.131507\n",
       "\\item 1994.186301\n",
       "\\item 1994.465753\n",
       "\\item 1994.564384\n",
       "\\item 1994.663014\n",
       "\\item 1994.728767\n",
       "\\item 1994.789041\n",
       "\\item 1994.884932\n",
       "\\item 1995.10137\n",
       "\\item 1995.172603\n",
       "\\item 1995.263014\n",
       "\\item 1995.347945\n",
       "\\item 1995.578082\n",
       "\\item 1995.660274\n",
       "\\item 1995.736986\n",
       "\\item 1995.821918\n",
       "\\item 1995.879452\n",
       "\\item 1996.046448\n",
       "\\item 1996.237705\n",
       "\\item 1996.314208\n",
       "\\item 1996.39071\n",
       "\\item 1996.486339\n",
       "\\item 1996.571038\n",
       "\\item 1996.639344\n",
       "\\item 1996.754098\n",
       "\\item 1996.830601\n",
       "\\item 1996.945355\n",
       "\\item 1997.021918\n",
       "\\item 1997.134247\n",
       "\\item 1997.194521\n",
       "\\item 1997.271233\n",
       "\\item 1997.347945\n",
       "\\item 1997.424658\n",
       "\\item 1997.520548\n",
       "\\item 1997.586301\n",
       "\\item 1997.734247\n",
       "\\item 1997.928767\n",
       "\\item 1998.030137\n",
       "\\item 1998.136986\n",
       "\\item 1998.210959\n",
       "\\item 1998.287671\n",
       "\\item 1998.364384\n",
       "\\item 1998.460274\n",
       "\\item 1998.536986\n",
       "\\item 1998.608219\n",
       "\\item 1998.742466\n",
       "\\item 1998.8\n",
       "\\item 1998.863014\n",
       "\\item 1998.939726\n",
       "\\item 1999.035616\n",
       "\\item 1999.134247\n",
       "\\item 1999.208219\n",
       "\\item 1999.284932\n",
       "\\item 1999.356164\n",
       "\\item 1999.534247\n",
       "\\item 1999.616438\n",
       "\\item 1999.789041\n",
       "\\item 1999.857534\n",
       "\\item 1999.956164\n",
       "\\item 2000.092896\n",
       "\\item 2000.166667\n",
       "\\item 2000.243169\n",
       "\\item 2000.319672\n",
       "\\item 2000.398907\n",
       "\\item 2000.472678\n",
       "\\item 2000.568306\n",
       "\\item 2000.644809\n",
       "\\item 2000.797814\n",
       "\\item 2000.915301\n",
       "\\item 2000.969945\n",
       "\\item 2001.046575\n",
       "\\item 2001.123288\n",
       "\\item 2001.219178\n",
       "\\item 2001.29589\n",
       "\\item 2001.372603\n",
       "\\item 2001.452055\n",
       "\\item 2001.526027\n",
       "\\item 2001.60274\n",
       "\\item 2001.753425\n",
       "\\item 2001.810959\n",
       "\\item 2001.879452\n",
       "\\item 2001.953425\n",
       "\\item 2002.043836\n",
       "\\item 2002.142466\n",
       "\\item 2002.19726\n",
       "\\item 2002.386301\n",
       "\\item 2002.493151\n",
       "\\item 2002.657534\n",
       "\\item 2002.767123\n",
       "\\item 2002.843836\n",
       "\\item 2002.90137\n",
       "\\item 2002.967123\n",
       "\\item 2003.046575\n",
       "\\item 2003.156164\n",
       "\\item 2003.241096\n",
       "\\item 2003.312329\n",
       "\\item 2003.386301\n",
       "\\item 2003.468493\n",
       "\\item 2003.550685\n",
       "\\item 2003.638356\n",
       "\\item 2003.789041\n",
       "\\item 2003.860274\n",
       "\\item 2003.969863\n",
       "\\item 2004.060109\n",
       "\\item 2004.153005\n",
       "\\item 2004.218579\n",
       "\\item 2004.306011\n",
       "\\item 2004.382514\n",
       "\\item 2004.459016\n",
       "\\item 2004.532787\n",
       "\\item 2004.625683\n",
       "\\item 2004.745902\n",
       "\\item 2004.833333\n",
       "\\item 2004.909836\n",
       "\\item 2004.972678\n",
       "\\item 2005.090411\n",
       "\\item 2005.175342\n",
       "\\item 2005.378082\n",
       "\\item 2005.454795\n",
       "\\item 2005.542466\n",
       "\\item 2005.619178\n",
       "\\item 2005.693151\n",
       "\\item 2005.772603\n",
       "\\item 2005.865753\n",
       "\\item 2005.950685\n",
       "\\item 2006.068493\n",
       "\\item 2006.126027\n",
       "\\item 2006.189041\n",
       "\\item 2006.252055\n",
       "\\item 2006.40274\n",
       "\\item 2006.452055\n",
       "\\item 2006.531507\n",
       "\\item 2006.605479\n",
       "\\item 2006.709589\n",
       "\\item 2006.805479\n",
       "\\item 2006.857534\n",
       "\\item 2006.942466\n",
       "\\item 2007.10411\n",
       "\\item 2007.219178\n",
       "\\item 2007.342466\n",
       "\\item 2007.517808\n",
       "\\item 2007.591781\n",
       "\\item 2007.673973\n",
       "\\item 2007.756164\n",
       "\\item 2007.920548\n",
       "\\item 2007.972603\n",
       "\\item 2008.081967\n",
       "\\item 2008.150273\n",
       "\\item 2008.407104\n",
       "\\item 2008.486339\n",
       "\\item 2008.571038\n",
       "\\item 2008.628415\n",
       "\\item 2008.778689\n",
       "\\item 2008.918033\n",
       "\\item 2009.057534\n",
       "\\item 2009.134247\n",
       "\\item 2009.326027\n",
       "\\item 2009.405479\n",
       "\\item 2009.506849\n",
       "\\item 2009.564384\n",
       "\\item 2009.632877\n",
       "\\item 2009.734247\n",
       "\\item 2009.843836\n",
       "\\item 2009.942466\n",
       "\\item 2010.189041\n",
       "\\item 2010.265753\n",
       "\\item 2010.380822\n",
       "\\item 2010.438356\n",
       "\\item 2010.520548\n",
       "\\item 2010.60274\n",
       "\\item 2010.676712\n",
       "\\item 2010.758904\n",
       "\\item 2010.890411\n",
       "\\item 2011.079452\n",
       "\\item 2011.164384\n",
       "\\item 2011.279452\n",
       "\\item 2011.356164\n",
       "\\item 2011.550685\n",
       "\\item 2011.663014\n",
       "\\item 2011.739726\n",
       "\\item 2011.846575\n",
       "\\item 2011.912329\n",
       "\\item 2011.969863\n",
       "\\item 2012.051913\n",
       "\\item 2012.23224\n",
       "\\item 2012.336066\n",
       "\\item 2012.415301\n",
       "\\item 2012.489071\n",
       "\\item 2012.584699\n",
       "\\item 2012.631148\n",
       "\\item 2012.70765\n",
       "\\item 2012.770492\n",
       "\\item 2012.92623\n",
       "\\item 2013.120548\n",
       "\\item 2013.180822\n",
       "\\item 2013.263014\n",
       "\\item 2013.378082\n",
       "\\item 2013.484932\n",
       "\\item 2013.69863\n",
       "\\item 2013.753425\n",
       "\\item 2013.824658\n",
       "\\item 2013.906849\n",
       "\\item 2013.972603\n",
       "\\item 2014.043836\n",
       "\\item 2014.126027\n",
       "\\item 2014.178082\n",
       "\\item 2014.276712\n",
       "\\item 2014.416438\n",
       "\\item 2014.49863\n",
       "\\item 2014.706849\n",
       "\\item 2014.786301\n",
       "\\item 2014.893151\n",
       "\\end{enumerate*}\n"
      ],
      "text/markdown": [
       "1. 1988.833333\n",
       "2. 1988.920765\n",
       "3. 1989.021918\n",
       "4. 1989.156164\n",
       "5. 1989.235616\n",
       "6. 1989.378082\n",
       "7. 1989.479452\n",
       "8. 1989.575342\n",
       "9. 1989.646575\n",
       "10. 1989.726027\n",
       "11. 1989.79726\n",
       "12. 1989.906849\n",
       "13. 1990.013699\n",
       "14. 1990.126027\n",
       "15. 1990.213699\n",
       "16. 1990.282192\n",
       "17. 1990.353425\n",
       "18. 1990.449315\n",
       "19. 1990.564384\n",
       "20. 1990.70411\n",
       "21. 1990.964384\n",
       "22. 1991.093151\n",
       "23. 1991.180822\n",
       "24. 1991.273973\n",
       "25. 1991.350685\n",
       "26. 1991.427397\n",
       "27. 1991.523288\n",
       "28. 1991.608219\n",
       "29. 1991.715068\n",
       "30. 1991.805479\n",
       "31. 1991.934247\n",
       "32. 1992.013661\n",
       "33. 1992.125683\n",
       "34. 1992.180328\n",
       "35. 1992.295082\n",
       "36. 1992.439891\n",
       "37. 1992.510929\n",
       "38. 1992.595628\n",
       "39. 1992.729508\n",
       "40. 1992.803279\n",
       "41. 1992.898907\n",
       "42. 1992.959016\n",
       "43. 1993.054795\n",
       "44. 1993.131507\n",
       "45. 1993.287671\n",
       "46. 1993.386301\n",
       "47. 1993.706849\n",
       "48. 1993.830137\n",
       "49. 1994.054795\n",
       "50. 1994.131507\n",
       "51. 1994.186301\n",
       "52. 1994.465753\n",
       "53. 1994.564384\n",
       "54. 1994.663014\n",
       "55. 1994.728767\n",
       "56. 1994.789041\n",
       "57. 1994.884932\n",
       "58. 1995.10137\n",
       "59. 1995.172603\n",
       "60. 1995.263014\n",
       "61. 1995.347945\n",
       "62. 1995.578082\n",
       "63. 1995.660274\n",
       "64. 1995.736986\n",
       "65. 1995.821918\n",
       "66. 1995.879452\n",
       "67. 1996.046448\n",
       "68. 1996.237705\n",
       "69. 1996.314208\n",
       "70. 1996.39071\n",
       "71. 1996.486339\n",
       "72. 1996.571038\n",
       "73. 1996.639344\n",
       "74. 1996.754098\n",
       "75. 1996.830601\n",
       "76. 1996.945355\n",
       "77. 1997.021918\n",
       "78. 1997.134247\n",
       "79. 1997.194521\n",
       "80. 1997.271233\n",
       "81. 1997.347945\n",
       "82. 1997.424658\n",
       "83. 1997.520548\n",
       "84. 1997.586301\n",
       "85. 1997.734247\n",
       "86. 1997.928767\n",
       "87. 1998.030137\n",
       "88. 1998.136986\n",
       "89. 1998.210959\n",
       "90. 1998.287671\n",
       "91. 1998.364384\n",
       "92. 1998.460274\n",
       "93. 1998.536986\n",
       "94. 1998.608219\n",
       "95. 1998.742466\n",
       "96. 1998.8\n",
       "97. 1998.863014\n",
       "98. 1998.939726\n",
       "99. 1999.035616\n",
       "100. 1999.134247\n",
       "101. 1999.208219\n",
       "102. 1999.284932\n",
       "103. 1999.356164\n",
       "104. 1999.534247\n",
       "105. 1999.616438\n",
       "106. 1999.789041\n",
       "107. 1999.857534\n",
       "108. 1999.956164\n",
       "109. 2000.092896\n",
       "110. 2000.166667\n",
       "111. 2000.243169\n",
       "112. 2000.319672\n",
       "113. 2000.398907\n",
       "114. 2000.472678\n",
       "115. 2000.568306\n",
       "116. 2000.644809\n",
       "117. 2000.797814\n",
       "118. 2000.915301\n",
       "119. 2000.969945\n",
       "120. 2001.046575\n",
       "121. 2001.123288\n",
       "122. 2001.219178\n",
       "123. 2001.29589\n",
       "124. 2001.372603\n",
       "125. 2001.452055\n",
       "126. 2001.526027\n",
       "127. 2001.60274\n",
       "128. 2001.753425\n",
       "129. 2001.810959\n",
       "130. 2001.879452\n",
       "131. 2001.953425\n",
       "132. 2002.043836\n",
       "133. 2002.142466\n",
       "134. 2002.19726\n",
       "135. 2002.386301\n",
       "136. 2002.493151\n",
       "137. 2002.657534\n",
       "138. 2002.767123\n",
       "139. 2002.843836\n",
       "140. 2002.90137\n",
       "141. 2002.967123\n",
       "142. 2003.046575\n",
       "143. 2003.156164\n",
       "144. 2003.241096\n",
       "145. 2003.312329\n",
       "146. 2003.386301\n",
       "147. 2003.468493\n",
       "148. 2003.550685\n",
       "149. 2003.638356\n",
       "150. 2003.789041\n",
       "151. 2003.860274\n",
       "152. 2003.969863\n",
       "153. 2004.060109\n",
       "154. 2004.153005\n",
       "155. 2004.218579\n",
       "156. 2004.306011\n",
       "157. 2004.382514\n",
       "158. 2004.459016\n",
       "159. 2004.532787\n",
       "160. 2004.625683\n",
       "161. 2004.745902\n",
       "162. 2004.833333\n",
       "163. 2004.909836\n",
       "164. 2004.972678\n",
       "165. 2005.090411\n",
       "166. 2005.175342\n",
       "167. 2005.378082\n",
       "168. 2005.454795\n",
       "169. 2005.542466\n",
       "170. 2005.619178\n",
       "171. 2005.693151\n",
       "172. 2005.772603\n",
       "173. 2005.865753\n",
       "174. 2005.950685\n",
       "175. 2006.068493\n",
       "176. 2006.126027\n",
       "177. 2006.189041\n",
       "178. 2006.252055\n",
       "179. 2006.40274\n",
       "180. 2006.452055\n",
       "181. 2006.531507\n",
       "182. 2006.605479\n",
       "183. 2006.709589\n",
       "184. 2006.805479\n",
       "185. 2006.857534\n",
       "186. 2006.942466\n",
       "187. 2007.10411\n",
       "188. 2007.219178\n",
       "189. 2007.342466\n",
       "190. 2007.517808\n",
       "191. 2007.591781\n",
       "192. 2007.673973\n",
       "193. 2007.756164\n",
       "194. 2007.920548\n",
       "195. 2007.972603\n",
       "196. 2008.081967\n",
       "197. 2008.150273\n",
       "198. 2008.407104\n",
       "199. 2008.486339\n",
       "200. 2008.571038\n",
       "201. 2008.628415\n",
       "202. 2008.778689\n",
       "203. 2008.918033\n",
       "204. 2009.057534\n",
       "205. 2009.134247\n",
       "206. 2009.326027\n",
       "207. 2009.405479\n",
       "208. 2009.506849\n",
       "209. 2009.564384\n",
       "210. 2009.632877\n",
       "211. 2009.734247\n",
       "212. 2009.843836\n",
       "213. 2009.942466\n",
       "214. 2010.189041\n",
       "215. 2010.265753\n",
       "216. 2010.380822\n",
       "217. 2010.438356\n",
       "218. 2010.520548\n",
       "219. 2010.60274\n",
       "220. 2010.676712\n",
       "221. 2010.758904\n",
       "222. 2010.890411\n",
       "223. 2011.079452\n",
       "224. 2011.164384\n",
       "225. 2011.279452\n",
       "226. 2011.356164\n",
       "227. 2011.550685\n",
       "228. 2011.663014\n",
       "229. 2011.739726\n",
       "230. 2011.846575\n",
       "231. 2011.912329\n",
       "232. 2011.969863\n",
       "233. 2012.051913\n",
       "234. 2012.23224\n",
       "235. 2012.336066\n",
       "236. 2012.415301\n",
       "237. 2012.489071\n",
       "238. 2012.584699\n",
       "239. 2012.631148\n",
       "240. 2012.70765\n",
       "241. 2012.770492\n",
       "242. 2012.92623\n",
       "243. 2013.120548\n",
       "244. 2013.180822\n",
       "245. 2013.263014\n",
       "246. 2013.378082\n",
       "247. 2013.484932\n",
       "248. 2013.69863\n",
       "249. 2013.753425\n",
       "250. 2013.824658\n",
       "251. 2013.906849\n",
       "252. 2013.972603\n",
       "253. 2014.043836\n",
       "254. 2014.126027\n",
       "255. 2014.178082\n",
       "256. 2014.276712\n",
       "257. 2014.416438\n",
       "258. 2014.49863\n",
       "259. 2014.706849\n",
       "260. 2014.786301\n",
       "261. 2014.893151\n",
       "\n",
       "\n"
      ],
      "text/plain": [
       "  [1] 1988.833 1988.921 1989.022 1989.156 1989.236 1989.378 1989.479 1989.575\n",
       "  [9] 1989.647 1989.726 1989.797 1989.907 1990.014 1990.126 1990.214 1990.282\n",
       " [17] 1990.353 1990.449 1990.564 1990.704 1990.964 1991.093 1991.181 1991.274\n",
       " [25] 1991.351 1991.427 1991.523 1991.608 1991.715 1991.805 1991.934 1992.014\n",
       " [33] 1992.126 1992.180 1992.295 1992.440 1992.511 1992.596 1992.730 1992.803\n",
       " [41] 1992.899 1992.959 1993.055 1993.132 1993.288 1993.386 1993.707 1993.830\n",
       " [49] 1994.055 1994.132 1994.186 1994.466 1994.564 1994.663 1994.729 1994.789\n",
       " [57] 1994.885 1995.101 1995.173 1995.263 1995.348 1995.578 1995.660 1995.737\n",
       " [65] 1995.822 1995.879 1996.046 1996.238 1996.314 1996.391 1996.486 1996.571\n",
       " [73] 1996.639 1996.754 1996.831 1996.945 1997.022 1997.134 1997.195 1997.271\n",
       " [81] 1997.348 1997.425 1997.521 1997.586 1997.734 1997.929 1998.030 1998.137\n",
       " [89] 1998.211 1998.288 1998.364 1998.460 1998.537 1998.608 1998.742 1998.800\n",
       " [97] 1998.863 1998.940 1999.036 1999.134 1999.208 1999.285 1999.356 1999.534\n",
       "[105] 1999.616 1999.789 1999.858 1999.956 2000.093 2000.167 2000.243 2000.320\n",
       "[113] 2000.399 2000.473 2000.568 2000.645 2000.798 2000.915 2000.970 2001.047\n",
       "[121] 2001.123 2001.219 2001.296 2001.373 2001.452 2001.526 2001.603 2001.753\n",
       "[129] 2001.811 2001.879 2001.953 2002.044 2002.142 2002.197 2002.386 2002.493\n",
       "[137] 2002.658 2002.767 2002.844 2002.901 2002.967 2003.047 2003.156 2003.241\n",
       "[145] 2003.312 2003.386 2003.468 2003.551 2003.638 2003.789 2003.860 2003.970\n",
       "[153] 2004.060 2004.153 2004.219 2004.306 2004.383 2004.459 2004.533 2004.626\n",
       "[161] 2004.746 2004.833 2004.910 2004.973 2005.090 2005.175 2005.378 2005.455\n",
       "[169] 2005.542 2005.619 2005.693 2005.773 2005.866 2005.951 2006.068 2006.126\n",
       "[177] 2006.189 2006.252 2006.403 2006.452 2006.532 2006.605 2006.710 2006.805\n",
       "[185] 2006.858 2006.942 2007.104 2007.219 2007.342 2007.518 2007.592 2007.674\n",
       "[193] 2007.756 2007.921 2007.973 2008.082 2008.150 2008.407 2008.486 2008.571\n",
       "[201] 2008.628 2008.779 2008.918 2009.058 2009.134 2009.326 2009.405 2009.507\n",
       "[209] 2009.564 2009.633 2009.734 2009.844 2009.942 2010.189 2010.266 2010.381\n",
       "[217] 2010.438 2010.521 2010.603 2010.677 2010.759 2010.890 2011.079 2011.164\n",
       "[225] 2011.279 2011.356 2011.551 2011.663 2011.740 2011.847 2011.912 2011.970\n",
       "[233] 2012.052 2012.232 2012.336 2012.415 2012.489 2012.585 2012.631 2012.708\n",
       "[241] 2012.770 2012.926 2013.121 2013.181 2013.263 2013.378 2013.485 2013.699\n",
       "[249] 2013.753 2013.825 2013.907 2013.973 2014.044 2014.126 2014.178 2014.277\n",
       "[257] 2014.416 2014.499 2014.707 2014.786 2014.893"
      ]
     },
     "metadata": {},
     "output_type": "display_data"
    }
   ],
   "source": [
    "ClimateData$Date"
   ]
  },
  {
   "cell_type": "markdown",
   "metadata": {},
   "source": [
    "### 1.4 Practice Plotting"
   ]
  },
  {
   "cell_type": "markdown",
   "metadata": {},
   "source": [
    "There are a number of things that we can do with this data!\n",
    "\n",
    "First, let's see if the CO$_2$ concentration rose from 1990 to 2015. Combustion of fossil fuels has led to rising CO$_2$ concentrations in the atmosphere and dissolved in the ocean, which we can look for in this data. The fraction of dissolved CO$_2$ in the ocean is given a partial pressure given in micro-Atmospheres. Recall, ambient pressure is 1 Atm. \n",
    "\n",
    "We are going to use ggplot2, which we load together with other functions in the tidyverse library. "
   ]
  },
  {
   "cell_type": "code",
   "execution_count": 4,
   "metadata": {},
   "outputs": [
    {
     "name": "stderr",
     "output_type": "stream",
     "text": [
      "Registered S3 methods overwritten by 'ggplot2':\n",
      "  method         from \n",
      "  [.quosures     rlang\n",
      "  c.quosures     rlang\n",
      "  print.quosures rlang\n",
      "Registered S3 method overwritten by 'rvest':\n",
      "  method            from\n",
      "  read_xml.response xml2\n",
      "── Attaching packages ─────────────────────────────────────── tidyverse 1.2.1 ──\n",
      "✔ ggplot2 3.1.1       ✔ purrr   0.3.2  \n",
      "✔ tibble  2.1.1       ✔ dplyr   0.8.0.1\n",
      "✔ tidyr   0.8.3       ✔ stringr 1.4.0  \n",
      "✔ readr   1.3.1       ✔ forcats 0.4.0  \n",
      "── Conflicts ────────────────────────────────────────── tidyverse_conflicts() ──\n",
      "✖ dplyr::filter() masks stats::filter()\n",
      "✖ dplyr::lag()    masks stats::lag()\n"
     ]
    }
   ],
   "source": [
    "library(tidyverse)"
   ]
  },
  {
   "cell_type": "markdown",
   "metadata": {},
   "source": [
    "Below, we give you the code to plot the pCO$_2$ versus date.  Make sure you know the purpose of the syntax in the entire command. Ask a colleague or search the internet if you do not!"
   ]
  },
  {
   "cell_type": "code",
   "execution_count": 18,
   "metadata": {},
   "outputs": [
    {
     "data": {
      "image/png": "[encoded data removed]",
      "text/plain": [
       "plot without title"
      ]
     },
     "metadata": {},
     "output_type": "display_data"
    }
   ],
   "source": [
    "ggplot(ClimateData, aes(x = Date,y = pCO2)) + geom_point() +\n",
    "xlab(\"Date\") + ylab(\"Ocean pCO2 near Hawaii\")"
   ]
  },
  {
   "cell_type": "markdown",
   "metadata": {},
   "source": [
    "What do you think? Did the CO$_2$ partial pressure rise significantly?"
   ]
  },
  {
   "cell_type": "markdown",
   "metadata": {},
   "source": [
    "### 1.4.1 Analyzing data with scripts - Motivation"
   ]
  },
  {
   "cell_type": "markdown",
   "metadata": {},
   "source": [
    "The data that we plotted does not look like the EPA plots. "
   ]
  },
  {
   "cell_type": "markdown",
   "metadata": {},
   "source": [
    "Before learning to code, it's likely you would have generated the plot and anazlyed the data in an \"amateur\" way, in other words - manually. Many scientists tend to manually analyze their data using Office-like software tools. The most popular tools are Excel, Google Sheets, Mac's Numbers and Libre Office, for example. (Reference Gaston's notes!!!!!!!!!!!) \n",
    "\n",
    "You are learning powerful skills to use the text file of the data, write code, and work with a dynamic document (jupyter notebook) to analyze data.\n",
    "\n",
    "We're sure you'll use the manual tools sometimes, but soon you can use your coding skills to be more effecient and creative. "
   ]
  },
  {
   "cell_type": "markdown",
   "metadata": {},
   "source": [
    "Once we have a small R script that will plot the date vs. pCO$_2$, we can easily change it to plot any of the columns against each other. We can also import the data from Bermuda and the Canary Islands, to compare all the locations.\n",
    "\n",
    "In the next section, play around with ggplot's options to have the style of the plot match the plot on the EPA's website. "
   ]
  },
  {
   "cell_type": "markdown",
   "metadata": {},
   "source": [
    "### 1.5 Exploring plotting in R"
   ]
  },
  {
   "cell_type": "markdown",
   "metadata": {},
   "source": [
    "We are using ggplot2, but R has another plotting function called plot(), which is actually the standard default.  \n",
    "\n",
    "If you are interested, have a look at this paper https://onlinelibrary.wiley.com/doi/pdf/10.1111/jeb.12496. Professor Pleuni Pennings made all the figures in this paper with the plot() function. \n",
    "\n",
    "See https://www.dummies.com/programming/r/how-to-create-different-plot-types-in-r/)\n"
   ]
  },
  {
   "cell_type": "markdown",
   "metadata": {},
   "source": [
    "INSTRUCTIONS: In addition to changing the style of the plot of pCO2 versus date, add a title, thicken the lines and decide which marker you like best. \n",
    "\n",
    "Put your code in the box below. Share your plot with colleagues and potentially add features that they used. "
   ]
  },
  {
   "cell_type": "code",
   "execution_count": null,
   "metadata": {},
   "outputs": [],
   "source": [
    "#Put code here!"
   ]
  },
  {
   "cell_type": "markdown",
   "metadata": {},
   "source": [
    "### 1.5 Exploring data statistics in R"
   ]
  },
  {
   "cell_type": "markdown",
   "metadata": {},
   "source": [
    "Let's find out some information about the data. In the Project for this Module, you will do statistical analyses of pCO2 data from estuaries around the country, so we are introducing some of the concepts here.\n",
    "\n",
    "__To start, what is the range of years over which the data was taken?__\n",
    "\n",
    "The data in the \"Date\" column can be accessed using the dollar sign and the column name: ClimateData$Date\n",
    "\n",
    "We will use the summary() function to look at the range. "
   ]
  },
  {
   "cell_type": "code",
   "execution_count": 5,
   "metadata": {},
   "outputs": [
    {
     "data": {
      "text/plain": [
       "   Min. 1st Qu.  Median    Mean 3rd Qu.    Max. \n",
       "   1989    1996    2002    2002    2008    2015 "
      ]
     },
     "metadata": {},
     "output_type": "display_data"
    }
   ],
   "source": [
    "#look at min and max using summary\n",
    "summary(ClimateData$Date)"
   ]
  },
  {
   "cell_type": "markdown",
   "metadata": {},
   "source": [
    "The minimum and maximum of the data are determined using minimum and maximum functions, too."
   ]
  },
  {
   "cell_type": "code",
   "execution_count": 6,
   "metadata": {},
   "outputs": [
    {
     "name": "stdout",
     "output_type": "stream",
     "text": [
      "[1] \"Mean Date  2001.96441003448\"\n",
      "[1] \"Minimum Date  1988.833333\"\n",
      "[1] \"Maximum Date  2014.893151\"\n",
      "[1] \"Standard Deviation Date  7.43378655535459\"\n"
     ]
    }
   ],
   "source": [
    "print(paste(\"Mean Date \", mean(ClimateData$Date)))\n",
    "print(paste(\"Minimum Date \", min(ClimateData$Date)))\n",
    "print(paste(\"Maximum Date \", max(ClimateData$Date)))\n",
    "print(paste(\"Standard Deviation Date \", sd(ClimateData$Date)))"
   ]
  },
  {
   "cell_type": "markdown",
   "metadata": {},
   "source": [
    "Note that the day and month are represented by the decimal - conceptually as a fraction of the year. Consider how you could represent January 2, 1988 (which is not included in the data set). \n",
    "\n",
    "__Which date was the first measurement taken?__"
   ]
  },
  {
   "cell_type": "code",
   "execution_count": 8,
   "metadata": {},
   "outputs": [
    {
     "data": {
      "text/html": [
       "1988.00547945205"
      ],
      "text/latex": [
       "1988.00547945205"
      ],
      "text/markdown": [
       "1988.00547945205"
      ],
      "text/plain": [
       "[1] 1988.005"
      ]
     },
     "metadata": {},
     "output_type": "display_data"
    }
   ],
   "source": [
    "1988+2./365."
   ]
  },
  {
   "cell_type": "markdown",
   "metadata": {},
   "source": [
    "#### The summary function\n",
    "R also has functions to compute the average and standard deviation of the data. I computed them and the min and max for the pH data below. "
   ]
  },
  {
   "cell_type": "code",
   "execution_count": 9,
   "metadata": {},
   "outputs": [
    {
     "data": {
      "text/plain": [
       "   Min. 1st Qu.  Median    Mean 3rd Qu.    Max. \n",
       "  8.042   8.079   8.089   8.091   8.104   8.151 "
      ]
     },
     "metadata": {},
     "output_type": "display_data"
    }
   ],
   "source": [
    "summary(ClimateData$pH)"
   ]
  },
  {
   "cell_type": "code",
   "execution_count": 10,
   "metadata": {},
   "outputs": [
    {
     "name": "stdout",
     "output_type": "stream",
     "text": [
      "[1] \"Standard Deviation pH  0.0192785952903471\"\n"
     ]
    }
   ],
   "source": [
    "print(paste(\"Standard Deviation pH \", sd(ClimateData$pH)))"
   ]
  },
  {
   "cell_type": "markdown",
   "metadata": {},
   "source": [
    "#### Box Plot introduction\n",
    "The summary function also prints a quantity called the 3rd Quartile (3rd Qu.). \n",
    "\n",
    "We'll use the image below to describe the 3rd Qu., which was taken from wikipedia: By Jhguch at en.wikipedia, CC BY-SA 2.5, https://commons.wikimedia.org/w/index.php?curid=14524285"
   ]
  },
  {
   "cell_type": "markdown",
   "metadata": {},
   "source": [
    "<img src=\"images/Boxplot_vs_PDF.svg\" width=500 height=500 />"
   ]
  },
  {
   "cell_type": "markdown",
   "metadata": {},
   "source": [
    "In this plot, there is a normal distribution of the data. The values of the data are not shown. Instead, the x-axis is plotted in $\\sigma$, which is the standard deviation of the data from the mean. At the center distribution, there is no deviation from the mean = 0$\\sigma$. \n",
    "\n",
    "A quartile gives 25% of the data. In other words, 25% of the lower valued data lies within the 1st quartile, 25% of the data lies in the 2nd quartile, 25% of the data lies in the 3rd quartile, and 25% of the highest valued data lies in the 4th quartile. \n",
    "\n",
    "The 3rd quartile number reported from the summary() function, tells you that 25% of the data has values above that number. \n",
    "\n",
    "IQR is the inter quartile range. 50% of the data lies in the IQR, which is a common region to plot with a box plot!\n",
    "\n",
    "\n",
    "\n"
   ]
  },
  {
   "cell_type": "markdown",
   "metadata": {},
   "source": [
    "### 1.6 The ocean is acidifying - its pH is getting lower!"
   ]
  },
  {
   "cell_type": "markdown",
   "metadata": {},
   "source": [
    "Now we'll watch a video that will describe the relationship between atmosphere CO$_2$ concentration to pH in the oceans.\n"
   ]
  },
  {
   "cell_type": "code",
   "execution_count": 4,
   "metadata": {},
   "outputs": [
    {
     "data": {
      "text/html": [
       "<iframe width=\"560\" height=\"315\" src=\"https://www.dropbox.com/s/yqa1i1oyzae8qfz/pCO2_pH_lecture.mp4?raw=1\" frameborder=\"0\" allow=\"accelerometer; encrypted-media; gyroscope; autoplay = False ; picture-in-picture;  type=\"video/mp4\"\" allowfullscreen></iframe>"
      ]
     },
     "metadata": {},
     "output_type": "display_data"
    }
   ],
   "source": [
    "display_html('<iframe width=\"560\" height=\"315\" src=\"https://www.dropbox.com/s/yqa1i1oyzae8qfz/pCO2_pH_lecture.mp4?raw=1\" frameborder=\"0\" allow=\"accelerometer; encrypted-media; gyroscope; autoplay = False ; picture-in-picture;  type=\"video/mp4\"\" allowfullscreen></iframe>')"
   ]
  },
  {
   "cell_type": "markdown",
   "metadata": {},
   "source": [
    "#### Insights from plots versus statstics\n",
    "\n",
    "\n",
    "Recall from above, standard deviation in the pH data is 0.019. \n",
    "\n",
    "As an initial guess, we might think that any values in the range of 8.07 to 8.11 are close to the mean - within one standard deviaition. You can see in the \"summary\" output that the 1st and 3rd Quartiles give a similar range.  \n"
   ]
  },
  {
   "cell_type": "markdown",
   "metadata": {},
   "source": [
    "In the cell below, calculate the mean, maximum value, minimum value, and standard deviation of the CO$_2$ concentration data. "
   ]
  },
  {
   "cell_type": "code",
   "execution_count": 13,
   "metadata": {},
   "outputs": [
    {
     "data": {
      "text/plain": [
       "   Min. 1st Qu.  Median    Mean 3rd Qu.    Max. \n",
       "  298.3   336.8   350.1   350.4   363.4   398.7 "
      ]
     },
     "metadata": {},
     "output_type": "display_data"
    },
    {
     "name": "stdout",
     "output_type": "stream",
     "text": [
      "[1] \"Standard Deviation pCO2  19.0464372568209\"\n"
     ]
    }
   ],
   "source": [
    "summary(ClimateData$pCO2)\n",
    "print(paste(\"Standard Deviation pCO2 \", sd(ClimateData$pCO2)))"
   ]
  },
  {
   "cell_type": "markdown",
   "metadata": {},
   "source": [
    "Note the minimum and maximum pH values are larger than one standard deviation of the mean. But this analysis hides a lot of interesting structure within the data, which we can better observe by plotting."
   ]
  },
  {
   "cell_type": "markdown",
   "metadata": {},
   "source": [
    "#### 1.6.1 Plotting pH vs. CO2"
   ]
  },
  {
   "cell_type": "markdown",
   "metadata": {},
   "source": [
    "So far, we have plotted CO$_2$ versus time. Insert a cell below and plot the pH versus time."
   ]
  },
  {
   "cell_type": "markdown",
   "metadata": {},
   "source": [
    "Now that we can see the data, calculating standard deviation of the entire data set does not make a lot of sense.\n",
    "\n",
    "It would be better to determine the standard deviation of the average pH during a year and ALSO the standard deviation during a given year. You will do these analyses in the Module Project!\n",
    "\n",
    "We can ask why the pH varies so much during the year. Recall that the pH and CO$_2$ seemed to be inversely correlated. In both data sets, there is a lot of noise.\n",
    "\n",
    "What is the cause of the periodic fluctuations in the data? Discuss! "
   ]
  },
  {
   "cell_type": "markdown",
   "metadata": {},
   "source": [
    "We see that as the pCO$_2$ increases, the pH decreases. There is a cyclical variation in the pCO$_2$ over a year, but it has risen during the last 30 years. We also know that the pCO$_2$ has risen steeply since the industrial revolution (slides). \n",
    "\n",
    "Do you think there will still be the yearly fluctuations if we plot pH versus pCO$_2$? Make a prediction and discuss.\n",
    "\n",
    "INSTUCTIONS: Now make a scatter plot! Plot the pH versus pCO$_2$:"
   ]
  },
  {
   "cell_type": "code",
   "execution_count": 18,
   "metadata": {},
   "outputs": [
    {
     "data": {
      "image/png": "[encoded data removed]",
      "text/plain": [
       "Plot with title “CO2 vs H concentration”"
      ]
     },
     "metadata": {},
     "output_type": "display_data"
    }
   ],
   "source": [
    "#Here we plot points, hence type = \"p\". pch = 16 makes them solid.\n",
    "plot(ClimateData$pCO2,ClimateData$pH, xlab=\"pCO2\", ylab=\"H concentration\", type=\"p\",pch=16,\n",
    "     main=\"CO2 vs H concentration\", col=\"deeppink3\",lwd=3)"
   ]
  },
  {
   "cell_type": "markdown",
   "metadata": {},
   "source": [
    "\n",
    "Look at your plot of pH versus pCO$_2$. Do you think the relationship is linear? \n"
   ]
  },
  {
   "cell_type": "markdown",
   "metadata": {},
   "source": [
    "#### Chemistry background on pH and acidity"
   ]
  },
  {
   "cell_type": "markdown",
   "metadata": {},
   "source": [
    "Do you think that there is a more linear relationship between pH and pCO$_2$ or the concentration of H$^+$? Discuss with your neighbor and consider the video showing what happens when CO$_2$ reacts with water. \n",
    "\n",
    "We can determine this relationships or the correlation between the data using more statistical analysis.\n",
    "\n",
    "First, let's convert the pH data into $[H^+]$ concentration using the following equations:\n",
    "\n",
    "$$pH = -log_{10}([H^+])$$\n",
    "\n",
    "$$[H^+] = 10^{(-pH)}$$"
   ]
  },
  {
   "cell_type": "code",
   "execution_count": null,
   "metadata": {},
   "outputs": [],
   "source": [
    "ClimateData$Hconcentration = 10**(-1*ClimateData$pH)"
   ]
  },
  {
   "cell_type": "markdown",
   "metadata": {},
   "source": [
    "In R, to compute $x^y$, two stars are used to indicate the exponent, as $x**y$. We can add this piece of information as a new column in the data frame. Let's call the new column Hconcentration. Creating a new column, based on info from an existing column is easy in R. "
   ]
  },
  {
   "cell_type": "code",
   "execution_count": null,
   "metadata": {},
   "outputs": [],
   "source": [
    "plot(ClimateData$pCO2,ClimateData$Hconcentration, xlab=\"pCO2\", ylab=\"H concentration\", type=\"p\",pch=16,\n",
    "     main=\"CO2 vs H concentration\", col=\"deeppink3\",lwd=3)"
   ]
  },
  {
   "cell_type": "markdown",
   "metadata": {},
   "source": [
    "Because I expect there to be a linear relationship between pCO$_2$ and concentration of H$^+$, I plotted $[H^+]$ rather than the pH against the pCO$_2$."
   ]
  },
  {
   "cell_type": "markdown",
   "metadata": {},
   "source": [
    "How does the plot of pH versus pCO$_2$ compare to the plot of $[H^+]$ versus pCO$_2$?"
   ]
  },
  {
   "cell_type": "markdown",
   "metadata": {},
   "source": [
    "## More information is included below\n",
    "\n",
    "Hyperlinks in the jupyter notebook connect the code with the information below. "
   ]
  },
  {
   "cell_type": "markdown",
   "metadata": {},
   "source": [
    "[Top of the Document](#topofdoc)"
   ]
  },
  {
   "cell_type": "markdown",
   "metadata": {},
   "source": [
    "#### Information on today's goal:  <a id='todaysgoal'></a> \n",
    "\n",
    "Hopefully you are familiar with importing data and creating scatter plots using ggplot2. Please go back and review if necessary.\n",
    "\n",
    "The Module 1 Project will explore data of pH and CO$_2$ concentrations from estuaries around the country, focusing on the daily and seasonal changes in CO$_2$ concentration. The goal of this background notebook is to familiarize you with the relationship between ocean acidification, pH, and CO$_2$. "
   ]
  },
  {
   "cell_type": "markdown",
   "metadata": {},
   "source": [
    "<a id='INFOjupyternotebook'></a> \n",
    "#### Information on jupyter notebooks:\n",
    "\n"
   ]
  },
  {
   "cell_type": "markdown",
   "metadata": {},
   "source": [
    " Jupyter Notebooks are a great way to analyze data, providing a document where scientists can view data, write code to analyze their data, and visualize their data or analyses. It is also a great way to comment and annotate code."
   ]
  },
  {
   "cell_type": "markdown",
   "metadata": {},
   "source": [
    "At the beginning of most notebooks, modules should be uploaded, or the modules can be uploaded with the section of code that depends on them. \n",
    "\n",
    "In a jupyter notebook, pieces of code are entered via cells. One can run all the cells from the top, or run individual cells, one at a time. Variables in the cells are stored in memory."
   ]
  },
  {
   "cell_type": "markdown",
   "metadata": {},
   "source": [
    "<a id='motivation'></a>\n",
    "#### Motivation to study climate data"
   ]
  },
  {
   "cell_type": "markdown",
   "metadata": {},
   "source": [
    "Global warming due to our atmospheric pollution is one of the most urgent crisis facing us today. Increased CO$_2$ in the atmosphere and rising temperatures have a cascading effect that will effect all life and ecosystems. Biologists, chemists, and physicists can all do their part to study climate change and find solutions to the problems caused by the changing climate. Scientists, especially, should be familiar with the data, whether or not our particular discipline focuses on climate change. We need to be able to talk to our friends and family about the global climate crisis, to build political willpower to enact solutions."
   ]
  },
  {
   "cell_type": "markdown",
   "metadata": {},
   "source": [
    "One effect of increased CO$_2$ concentration in the atmosphere is increased uptake of CO$_2$ into the oceans. Higher concentrations of CO$_2$ cause acidification of the oceans and a lowering of the ocean's pH. The lower pH affects many animals and plants, especially coral reefs. We will start by looking at how much the concentration of CO$_2$ and pH has changed.\n",
    "\n",
    "<a id='tisthammer'></a> "
   ]
  },
  {
   "cell_type": "markdown",
   "metadata": {},
   "source": [
    "<a id='epa'></a>\n",
    "#### Data Provinance "
   ]
  },
  {
   "cell_type": "markdown",
   "metadata": {},
   "source": [
    "The Environmental Protection Agency (EPA) has collated the data and make them available to the public from the following website:\n",
    "    \n",
    "    https://www.epa.gov/climate-indicators/climate-change-indicators-ocean-acidity\n",
    "    \n",
    "The data for each of these locations consist of a date, a ocean pH measurement, and the partial pressure of CO$_2$ in partial atmospheres. We downloaded the data on January 15th 2020. \n",
    "\n",
    "It is important to cite and record where you download or recieve data from!"
   ]
  },
  {
   "cell_type": "markdown",
   "metadata": {},
   "source": [
    "#### Chemistry background"
   ]
  },
  {
   "cell_type": "markdown",
   "metadata": {},
   "source": [
    "\n",
    "Please see this\n",
    "<a href=\"https://chem.libretexts.org/Bookshelves/Introductory_Chemistry/Book%3A_Chemistry_for_Allied_Health_(Soult)/09%3A_Properties_of_Solutions/9.6%3A_The_pH_Concept\">link</a> to read more about pH or this <a href=\"https://chem.libretexts.org/Bookshelves/General_Chemistry/Map%3A_Chemistry_-_The_Central_Science_(Brown_et_al.)/10%3A_Gases/10.6%3A_Gas_Mixtures_and_Partial_Pressures\">link</a> to read about partial atmospheres. \n",
    "\n"
   ]
  },
  {
   "cell_type": "markdown",
   "metadata": {},
   "source": [
    "<a id='importdata'></a>\n",
    "#### Importing data with R"
   ]
  },
  {
   "cell_type": "markdown",
   "metadata": {},
   "source": [
    "We edited the data that was downloaded from the internet so that it is easier to import. In future lessons, you will learn more about how to format and organize data according to best practices. For this lesson, we'll just import the data from Hawaii that was already \"cleaned\" for you. The downloaded data have a structure, which is important to identify before importing. \n",
    "\n",
    "One can open data in a number of ways, to identify the structure, if it is not known. To save a step, we give you the structure of the Hawaii-ocean-acitivity.csv file here:\n",
    "\n",
    "The csv file has three columns. These three columns contain the date, pH, and pCO$_2$ from Hawaii. There is no header row. \n",
    "\n",
    "Our data will be imported from a csv file (comma separated variables). R has a function, called read.csv to help import csv files, so we'll load (import) the data using that function. The data will then be stored in a data structure that's called a \"data frame.\" Data frames are very useful data structures in R (and Python). Here's a link to read more about data frames: https://www.tutorialspoint.com/r/r_data_frames.htm. This tutorial begins with: \"A data frame is a table or a two-dimensional array-like structure in which each column contains values of one variable and each row contains one set of values from each column.\""
   ]
  },
  {
   "cell_type": "markdown",
   "metadata": {},
   "source": [
    "In order to import data, we need to tell our script where to find the data on our computer. Your data should be stored in a folder that is separate from your analyses and output. \n",
    "\n",
    "Create a folder (directory) named Data each time you start a project and keep your raw data there. "
   ]
  }
 ],
 "metadata": {
  "kernelspec": {
   "display_name": "R",
   "language": "R",
   "name": "ir"
  },
  "language_info": {
   "codemirror_mode": "r",
   "file_extension": ".r",
   "mimetype": "text/x-r-source",
   "name": "R",
   "pygments_lexer": "r",
   "version": "3.6.1"
  }
 },
 "nbformat": 4,
 "nbformat_minor": 2
}
